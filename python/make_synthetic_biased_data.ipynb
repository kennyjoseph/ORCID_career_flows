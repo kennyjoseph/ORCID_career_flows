{
 "cells": [
  {
   "cell_type": "markdown",
   "metadata": {},
   "source": [
    "# Imports"
   ]
  },
  {
   "cell_type": "code",
   "execution_count": 2,
   "metadata": {},
   "outputs": [],
   "source": [
    "import numpy as np\n",
    "import pandas as pd\n",
    "import matplotlib.pyplot as plt\n",
    "from util import *"
   ]
  },
  {
   "cell_type": "markdown",
   "metadata": {},
   "source": [
    "# Overview of Synthetic Data Process"
   ]
  },
  {
   "cell_type": "markdown",
   "metadata": {},
   "source": [
    "ORCID is an amazing service with a crazy-big dataset. However, not all fields partipate fully. This raises the question of whether inconsistencies in ORCID's coverage by field could affect our ability to find trends in the data. "
   ]
  },
  {
   "cell_type": "markdown",
   "metadata": {},
   "source": [
    "To that end, we are going to create synthetic data, in which we create counts of men and women moving between fields, whose relative counts will be affected by synthetically generated covariate scores according to a particular effect size. We will then ask whether we can recover that effect using our regression model. "
   ]
  },
  {
   "cell_type": "markdown",
   "metadata": {},
   "source": [
    "We will do so in four ways:\n",
    "\n",
    "1. Can we find the effect if we have all the data?\n",
    "2. Can we find the effect if we have only 10% of the data?\n",
    "3. Can we find the effect if we have an *uneven* 10% of the data?\n",
    "4. Can we find the effect if we have not only an *uneven* 10% of the data, but we also have random gender-biases in who uses ORCID?"
   ]
  },
  {
   "cell_type": "markdown",
   "metadata": {},
   "source": [
    "Note that here, we will create the synthetic data and analyze the results. However, regressions are done separately, by another collaborator, so that there is no p-hacking involved. Kenny won't know the answers, in other words. He'll just be given paired sets of covariates and field-to-field transition counts. "
   ]
  },
  {
   "cell_type": "markdown",
   "metadata": {},
   "source": [
    "# Setup - Flows"
   ]
  },
  {
   "cell_type": "markdown",
   "metadata": {},
   "source": [
    "First, get a list of existing field names to make file I/O look similar to what Kenny is used to, format-wise."
   ]
  },
  {
   "cell_type": "code",
   "execution_count": 4,
   "metadata": {},
   "outputs": [],
   "source": [
    "survey = pd.read_csv('../../data/processed/survey_names.csv')\n",
    "fields = survey['Discipline'].values"
   ]
  },
  {
   "cell_type": "markdown",
   "metadata": {},
   "source": [
    "Draw gender ratios for fields from UNIFORM[0.15,0.85]"
   ]
  },
  {
   "cell_type": "code",
   "execution_count": 31,
   "metadata": {},
   "outputs": [],
   "source": [
    "np.random.seed(4)\n",
    "field2pf = {}\n",
    "for field in fields:\n",
    "    field2pf[field] = np.random.uniform(low=0.15,high=0.85)"
   ]
  },
  {
   "cell_type": "markdown",
   "metadata": {},
   "source": [
    "Draw covariate values for fields from UNIFORM[2,5]"
   ]
  },
  {
   "cell_type": "code",
   "execution_count": 32,
   "metadata": {},
   "outputs": [],
   "source": [
    "def draw_covariates(fields):\n",
    "    field2cov = {}\n",
    "    for field in fields:\n",
    "        field2cov[field] = np.random.uniform(low=2,high=5)\n",
    "    return field2cov"
   ]
  },
  {
   "cell_type": "markdown",
   "metadata": {},
   "source": [
    "Draw STEM/NON for fields  n=12 STEM\n"
   ]
  },
  {
   "cell_type": "code",
   "execution_count": 33,
   "metadata": {},
   "outputs": [],
   "source": [
    "def draw_covariates_STEM(fields):\n",
    "    field2cov = {}\n",
    "    field2STEM = {}\n",
    "    for field in fields:\n",
    "        field2cov[field] = np.random.uniform(low=2,high=5)\n",
    "        if field2cov[field] > 4:\n",
    "            field2STEM[field] = 1\n",
    "        else:\n",
    "            field2STEM[field] = 0\n",
    "    return field2cov,field2STEM"
   ]
  },
  {
   "cell_type": "markdown",
   "metadata": {},
   "source": [
    "Choose a range of effect sizes: -1 to 1"
   ]
  },
  {
   "cell_type": "code",
   "execution_count": 34,
   "metadata": {},
   "outputs": [],
   "source": [
    "betas = np.linspace(-1,1,21)"
   ]
  },
  {
   "cell_type": "markdown",
   "metadata": {},
   "source": [
    "Functions and misc"
   ]
  },
  {
   "cell_type": "code",
   "execution_count": 35,
   "metadata": {},
   "outputs": [],
   "source": [
    "def get_pij(wi, xi, xj, beta, bias):\n",
    "    x = beta*(xj-xi) + np.log(wi/(1-wi)) + bias\n",
    "    return 1/(1+np.exp(-x))"
   ]
  },
  {
   "cell_type": "code",
   "execution_count": 36,
   "metadata": {},
   "outputs": [],
   "source": [
    "headerstring_transition = 'from_matched_field\\tto_matched_field\\tn_male\\tn_female\\n'\n",
    "headerstring_covariate = 'field\\tcovariate\\n'\n",
    "headerstring_covariate_STEM = 'field\\tcovariate\\tSTEM\\n'\n",
    "answers = []"
   ]
  },
  {
   "cell_type": "markdown",
   "metadata": {},
   "source": [
    "# Bias Scenario 1: 10X data"
   ]
  },
  {
   "cell_type": "code",
   "execution_count": 72,
   "metadata": {},
   "outputs": [],
   "source": [
    "np.random.seed(4)\n",
    "test = 0\n",
    "uncensored_transitions = 797980\n",
    "Nbar = uncensored_transitions/(len(fields)*(len(fields)-1))\n",
    "for beta in betas:\n",
    "    problem_id = str(np.random.randint(10000000000))\n",
    "    f = open('synthetic/'+problem_id+'_transitions.tsv','w')\n",
    "    f.write(headerstring_transition)\n",
    "    field2cov = draw_covariates(fields)\n",
    "    g = open('synthetic/'+problem_id+'_covariates.tsv','w')\n",
    "    g.write(headerstring_covariate)\n",
    "    for field in fields:\n",
    "        g.write('{}\\t{}\\n'.format(field,field2cov[field]))\n",
    "    g.close()\n",
    "    answers.append([problem_id,beta,test])\n",
    "    for origin in fields:\n",
    "        for destination in fields:\n",
    "            bias = 0\n",
    "            Nij = np.random.geometric(p=1/Nbar)\n",
    "            censoring = 1\n",
    "            Nij = np.round(censoring*Nij)\n",
    "            pij = get_pij(field2pf[origin],\n",
    "                          field2cov[origin],\n",
    "                          field2cov[destination],\n",
    "                          beta,\n",
    "                          bias)\n",
    "            Wij = np.random.binomial(Nij,pij)\n",
    "            Mij = Nij - Wij\n",
    "            \n",
    "            f.write('{}\\t{}\\t{}\\t{}\\n'.format(origin,destination,int(Mij),int(Wij)))\n",
    "    f.close()"
   ]
  },
  {
   "cell_type": "markdown",
   "metadata": {},
   "source": [
    "# Bias Scenario 2: 1X data"
   ]
  },
  {
   "cell_type": "code",
   "execution_count": 73,
   "metadata": {},
   "outputs": [],
   "source": [
    "np.random.seed(4)\n",
    "test = 1\n",
    "uncensored_transitions = 797980\n",
    "Nbar = uncensored_transitions/(len(fields)*(len(fields)-1))\n",
    "for beta in betas:\n",
    "    problem_id = str(np.random.randint(10000000000))\n",
    "    f = open('synthetic/'+problem_id+'_transitions.tsv','w')\n",
    "    f.write(headerstring_transition)\n",
    "    field2cov = draw_covariates(fields)\n",
    "    g = open('synthetic/'+problem_id+'_covariates.tsv','w')\n",
    "    g.write(headerstring_covariate)\n",
    "    for field in fields:\n",
    "        g.write('{}\\t{}\\n'.format(field,field2cov[field]))\n",
    "    g.close()\n",
    "    answers.append([problem_id,beta,test])\n",
    "    for origin in fields:\n",
    "        for destination in fields:\n",
    "            bias = 0\n",
    "            Nij = np.random.geometric(p=1/Nbar)\n",
    "            censoring = 0.1\n",
    "            Nij = np.round(censoring*Nij)\n",
    "            pij = get_pij(field2pf[origin],\n",
    "                          field2cov[origin],\n",
    "                          field2cov[destination],\n",
    "                          beta,\n",
    "                          bias)\n",
    "            Wij = np.random.binomial(Nij,pij)\n",
    "            Mij = Nij - Wij\n",
    "            f.write('{}\\t{}\\t{}\\t{}\\n'.format(origin,destination,int(Mij),int(Wij)))\n",
    "    f.close()"
   ]
  },
  {
   "cell_type": "markdown",
   "metadata": {},
   "source": [
    "# Bias Scenario 3: 1X data, but heterogeneous censoring"
   ]
  },
  {
   "cell_type": "code",
   "execution_count": 74,
   "metadata": {},
   "outputs": [],
   "source": [
    "np.random.seed(4)\n",
    "test = 2\n",
    "uncensored_transitions = 797980\n",
    "Nbar = uncensored_transitions/(len(fields)*(len(fields)-1))\n",
    "for beta in betas:\n",
    "    problem_id = str(np.random.randint(10000000000))\n",
    "    f = open('synthetic/'+problem_id+'_transitions.tsv','w')\n",
    "    f.write(headerstring_transition)\n",
    "    field2cov = draw_covariates(fields)\n",
    "    g = open('synthetic/'+problem_id+'_covariates.tsv','w')\n",
    "    g.write(headerstring_covariate)\n",
    "    for field in fields:\n",
    "        g.write('{}\\t{}\\n'.format(field,field2cov[field]))\n",
    "    g.close()\n",
    "    answers.append([problem_id,beta,test])\n",
    "    for origin in fields:\n",
    "        for destination in fields:\n",
    "            bias = 0\n",
    "            Nij = np.random.geometric(p=1/Nbar)\n",
    "            censoring = np.random.uniform(low=0.0, high=0.2)\n",
    "            Nij = np.round(censoring*Nij)\n",
    "            pij = get_pij(field2pf[origin],\n",
    "                          field2cov[origin],\n",
    "                          field2cov[destination],\n",
    "                          beta,\n",
    "                          bias)\n",
    "            Wij = np.random.binomial(Nij,pij)\n",
    "            Mij = Nij - Wij\n",
    "            f.write('{}\\t{}\\t{}\\t{}\\n'.format(origin,destination,int(Mij),int(Wij)))\n",
    "    f.close()"
   ]
  },
  {
   "cell_type": "markdown",
   "metadata": {},
   "source": [
    "# Bias Scenario 4: variable bias, 1X data, heterogeneous censoring"
   ]
  },
  {
   "cell_type": "code",
   "execution_count": 75,
   "metadata": {},
   "outputs": [],
   "source": [
    "np.random.seed(4)\n",
    "test = 3\n",
    "uncensored_transitions = 797980\n",
    "Nbar = uncensored_transitions/(len(fields)*(len(fields)-1))\n",
    "for rep in range(10):\n",
    "    for beta in betas:\n",
    "        problem_id = str(np.random.randint(10000000000))\n",
    "        f = open('synthetic/'+problem_id+'_transitions.tsv','w')\n",
    "        f.write(headerstring_transition)\n",
    "        field2cov = draw_covariates(fields)\n",
    "        g = open('synthetic/'+problem_id+'_covariates.tsv','w')\n",
    "        g.write(headerstring_covariate)\n",
    "        for field in fields:\n",
    "            g.write('{}\\t{}\\n'.format(field,field2cov[field]))\n",
    "        g.close()\n",
    "        answers.append([problem_id,beta,test])\n",
    "        for origin in fields:\n",
    "            for destination in fields:\n",
    "                bias = np.random.normal(loc=0,scale=1.0)\n",
    "                Nij = np.random.geometric(p=1/Nbar)\n",
    "                censoring = np.random.uniform(low=0.0, high=0.2)\n",
    "                Nij = np.round(censoring*Nij)\n",
    "                pij = get_pij(field2pf[origin],\n",
    "                              field2cov[origin],\n",
    "                              field2cov[destination],\n",
    "                              beta,\n",
    "                              bias)\n",
    "                Wij = np.random.binomial(Nij,pij)\n",
    "                Mij = Nij - Wij\n",
    "                f.write('{}\\t{}\\t{}\\t{}\\n'.format(origin,destination,int(Mij),int(Wij)))\n",
    "        f.close()"
   ]
  },
  {
   "cell_type": "markdown",
   "metadata": {},
   "source": [
    "# Bias Scenario 5: reviewer request"
   ]
  },
  {
   "cell_type": "markdown",
   "metadata": {},
   "source": [
    "A 2017 study of ORCID adoption (Dasler et al., 2017) found that ORCID usage is much\n",
    "more prevalent in the sciences and medicine (> 90% of identifiers) as opposed to the\n",
    "social sciences, arts, and humanities (< 10% of identifiers). People are more likely to sign up for ORCID when in a STEM field. **If people don't populate their ORCID profile with non-science past affiliations, this dataset likely oversamples \"downstream\" transitions out of science-related fields (vs. upstream).** \n",
    "\n",
    "If women are less likely to establish ORCID\n",
    "profiles (with approximately 38% of identifiers being coded as female in your sample),\n",
    "could this introduce a systematic bias against detecting upstream transitions by women? It\n",
    "is unclear from the write-up whether Bias Scenario 4 of the robustness checks addresses\n",
    "this possibility; if it does, the authors should clarify and elaborate. If it does not, the authors\n",
    "should address this limitation.\n"
   ]
  },
  {
   "cell_type": "code",
   "execution_count": 76,
   "metadata": {},
   "outputs": [],
   "source": [
    "np.random.seed(4)\n",
    "test = 4\n",
    "uncensored_transitions = 797980\n",
    "Nbar = uncensored_transitions/(len(fields)*(len(fields)-1))\n",
    "for rep in range(10):\n",
    "    for beta in betas:\n",
    "        problem_id = str(np.random.randint(10000000000))\n",
    "        f = open('synthetic/'+problem_id+'_transitions.tsv','w')\n",
    "        f.write(headerstring_transition)\n",
    "        field2cov,field2STEM = draw_covariates_STEM(fields)\n",
    "        g = open('synthetic/'+problem_id+'_covariates.tsv','w')\n",
    "        g.write(headerstring_covariate)\n",
    "        for field in fields:\n",
    "            g.write('{}\\t{}\\n'.format(field,field2cov[field]))\n",
    "        g.close()\n",
    "        answers.append([problem_id,beta,test])\n",
    "        for origin in fields:\n",
    "            for destination in fields:\n",
    "                bias = np.random.normal(loc=0,scale=1.0)\n",
    "                Nij = np.random.geometric(p=1/Nbar)\n",
    "                if field2STEM[destination]==1 or field2STEM[origin]==1:\n",
    "                    censoring = np.random.uniform(low=0.15, high=0.2)\n",
    "                else:\n",
    "                    censoring = np.random.uniform(low=0.0, high=0.05)\n",
    "                Nij = np.round(censoring*Nij)\n",
    "                pij = get_pij(field2pf[origin],\n",
    "                              field2cov[origin],\n",
    "                              field2cov[destination],\n",
    "                              beta,\n",
    "                              bias)\n",
    "                Wij = np.random.binomial(Nij,pij)\n",
    "                Mij = Nij - Wij\n",
    "                f.write('{}\\t{}\\t{}\\t{}\\n'.format(origin,destination,int(Mij),int(Wij)))\n",
    "        f.close()"
   ]
  },
  {
   "cell_type": "markdown",
   "metadata": {},
   "source": [
    "# Save the \"answers\" for later lookup\n",
    "Just in case. "
   ]
  },
  {
   "cell_type": "code",
   "execution_count": 77,
   "metadata": {},
   "outputs": [],
   "source": [
    "np.save('synthetic/answers.pkl',answers)"
   ]
  },
  {
   "cell_type": "markdown",
   "metadata": {},
   "source": [
    "# Pass data off to collaborator for blinded experiments"
   ]
  },
  {
   "cell_type": "markdown",
   "metadata": {},
   "source": [
    "Here, in order to prevent any sort of p-hacking, Larremore sent the files written above (with the lazy random int hash) to Joseph.  Joseph used the methods of the manuscript to estimate an effect size, and saved the results. \n",
    "\n",
    "The results are read back in below. "
   ]
  },
  {
   "cell_type": "markdown",
   "metadata": {},
   "source": [
    "# Read regression outputs from blinded collaborator"
   ]
  },
  {
   "cell_type": "markdown",
   "metadata": {},
   "source": [
    "Here we read in the results from Kenny Joseph, collate them by experiment number, and plot them."
   ]
  },
  {
   "cell_type": "code",
   "execution_count": 79,
   "metadata": {},
   "outputs": [
    {
     "data": {
      "text/html": [
       "<div>\n",
       "<style scoped>\n",
       "    .dataframe tbody tr th:only-of-type {\n",
       "        vertical-align: middle;\n",
       "    }\n",
       "\n",
       "    .dataframe tbody tr th {\n",
       "        vertical-align: top;\n",
       "    }\n",
       "\n",
       "    .dataframe thead th {\n",
       "        text-align: right;\n",
       "    }\n",
       "</style>\n",
       "<table border=\"1\" class=\"dataframe\">\n",
       "  <thead>\n",
       "    <tr style=\"text-align: right;\">\n",
       "      <th></th>\n",
       "      <th>filename</th>\n",
       "      <th>beta</th>\n",
       "    </tr>\n",
       "  </thead>\n",
       "  <tbody>\n",
       "    <tr>\n",
       "      <th>0</th>\n",
       "      <td>1035944405</td>\n",
       "      <td>-0.062595</td>\n",
       "    </tr>\n",
       "    <tr>\n",
       "      <th>1</th>\n",
       "      <td>1051476786</td>\n",
       "      <td>0.736880</td>\n",
       "    </tr>\n",
       "    <tr>\n",
       "      <th>2</th>\n",
       "      <td>1095365104</td>\n",
       "      <td>-0.482680</td>\n",
       "    </tr>\n",
       "    <tr>\n",
       "      <th>3</th>\n",
       "      <td>1137865850</td>\n",
       "      <td>-0.805336</td>\n",
       "    </tr>\n",
       "    <tr>\n",
       "      <th>4</th>\n",
       "      <td>1142296452</td>\n",
       "      <td>0.308754</td>\n",
       "    </tr>\n",
       "  </tbody>\n",
       "</table>\n",
       "</div>"
      ],
      "text/plain": [
       "     filename      beta\n",
       "0  1035944405 -0.062595\n",
       "1  1051476786  0.736880\n",
       "2  1095365104 -0.482680\n",
       "3  1137865850 -0.805336\n",
       "4  1142296452  0.308754"
      ]
     },
     "execution_count": 79,
     "metadata": {},
     "output_type": "execute_result"
    }
   ],
   "source": [
    "kenny = pd.read_csv('synthetic/simchallenge_results_2.csv')\n",
    "kenny.head()"
   ]
  },
  {
   "cell_type": "markdown",
   "metadata": {},
   "source": [
    "Collate results."
   ]
  },
  {
   "cell_type": "code",
   "execution_count": 91,
   "metadata": {},
   "outputs": [],
   "source": [
    "results = {}\n",
    "results[0] = []\n",
    "results[1] = []\n",
    "results[2] = []\n",
    "results[3] = []\n",
    "results[4] = []\n",
    "for an in answers:\n",
    "    prob = an[2]\n",
    "    correct = an[1]\n",
    "    submitted = kenny.loc[kenny['filename']==int(an[0]),'beta'].values[0]\n",
    "    results[prob].append([correct,submitted])\n",
    "\n",
    "for i in range(5):\n",
    "    results[i] = np.array(results[i])"
   ]
  },
  {
   "cell_type": "markdown",
   "metadata": {},
   "source": [
    "Plot"
   ]
  },
  {
   "cell_type": "code",
   "execution_count": 96,
   "metadata": {},
   "outputs": [
    {
     "data": {
      "image/png": "[encoded data removed]",
      "text/plain": [
       "<Figure size 864x864 with 5 Axes>"
      ]
     },
     "metadata": {
      "needs_background": "light"
     },
     "output_type": "display_data"
    }
   ],
   "source": [
    "fig,axs = plt.subplots(nrows=3,ncols=2,figsize=(2*6,3*4))\n",
    "axs = axs.flatten()\n",
    "for i in range(5):\n",
    "    ax = axs[i]\n",
    "    ax.scatter(results[i][:,0],results[i][:,1],\n",
    "               label='simulation #{}'.format(i+1),zorder=1,alpha=0.5)\n",
    "    ax.plot([-1,1],[-1,1],'--',color=[0.5,0.5,0.5],zorder=0,label='y=x')\n",
    "    ax.set_xlabel(r'true $\\beta$')\n",
    "    ax.set_ylabel(r'estimated $\\beta$')\n",
    "    ax.legend(fontsize=12,frameon=False)\n",
    "    finalize(ax,ignoreLegend=True)\n",
    "    ax.figure.tight_layout()\n",
    "axs[5].remove()\n",
    "plt.savefig('figures/bias_scenario_simulations.pdf')"
   ]
  }
 ],
 "metadata": {
  "kernelspec": {
   "display_name": "Python 3",
   "language": "python",
   "name": "python3"
  },
  "language_info": {
   "codemirror_mode": {
    "name": "ipython",
    "version": 3
   },
   "file_extension": ".py",
   "mimetype": "text/x-python",
   "name": "python",
   "nbconvert_exporter": "python",
   "pygments_lexer": "ipython3",
   "version": "3.7.4"
  }
 },
 "nbformat": 4,
 "nbformat_minor": 2
}
