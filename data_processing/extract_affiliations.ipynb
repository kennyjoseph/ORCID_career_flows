{
 "cells": [
  {
   "cell_type": "markdown",
   "metadata": {},
   "source": [
    "# Setup"
   ]
  },
  {
   "cell_type": "code",
   "execution_count": 41,
   "metadata": {
    "collapsed": true
   },
   "outputs": [],
   "source": [
    "#import ujson as json\n",
    "import gzip\n",
    "import pandas as pd\n",
    "from collections import Counter\n",
    "import string\n",
    "from multiprocessing import Pool\n",
    "import numpy as np\n",
    "from collections import defaultdict\n",
    "from bs4 import BeautifulSoup\n",
    "import requests\n",
    "import re\n",
    "import langid\n",
    "import pickle\n",
    "import ujson as json\n",
    "import sys\n",
    "from glob import glob\n",
    "import os\n",
    "import pickle\n",
    "# For field matching\n",
    "import field_matching\n",
    "from tqdm import tqdm\n",
    "STOPWORDS = set(['and','not','of','the'])\n",
    "\n",
    "%matplotlib inline\n",
    "from scipy import stats, integrate\n",
    "import matplotlib.pyplot as plt\n",
    "import seaborn as sns\n",
    "sns.set(color_codes=True)"
   ]
  },
  {
   "cell_type": "code",
   "execution_count": 42,
   "metadata": {
    "collapsed": true
   },
   "outputs": [],
   "source": [
    "tr = dict((ord(x), None) for x in string.punctuation)\n",
    "\n",
    "def lookup(myjson, k):\n",
    "  # return myjson[k]\n",
    "  if '.' in k:\n",
    "    # jpath path\n",
    "    ks = k.split('.')\n",
    "    v = myjson\n",
    "    for k in ks: \n",
    "        if not v:\n",
    "            return \"\"\n",
    "        v = v.get(k,{})\n",
    "    return v or \"\"\n",
    "  return myjson.get(k,\"\")\n",
    "\n",
    "\n",
    "def get_terms(text, term_set =None):\n",
    "    spl = re.split(\"[ /+,]\",text.lower())\n",
    "    t = set([x.translate(tr) for x in spl])\n",
    "    if term_set:\n",
    "        return t & term_set\n",
    "    return t\n",
    "\n",
    "\n",
    "\n",
    "def clean_dict(d):\n",
    "    for k, v in d.items():\n",
    "        if v:\n",
    "            d[k] = v.text\n",
    "    return d\n",
    "        \n",
    "def gen_bio(user_dat):\n",
    "    person = user_dat.find(\"person:person\")\n",
    "    if not person:\n",
    "        return {\n",
    "             \"person_created_prof_date\" : None,\n",
    "             \"person_last_mod_date\" : None,\n",
    "             \"person_first_name\" : None,\n",
    "             \"person_last_name\" : None\n",
    "        }\n",
    "    person = {\n",
    "         \"person_created_prof_date\" : person.find('common:created-date'),\n",
    "         \"person_last_mod_date\" : person.find('common:last-modified-date'),\n",
    "         \"person_first_name\" : person.find('personal-details:given-names'),\n",
    "         \"person_last_name\" : person.find('personal-details:family-name')\n",
    "    }\n",
    "    return clean_dict(person)\n",
    "\n",
    "def gen_affl(user_dat,ty):\n",
    "    affiliations = []\n",
    "    for e in user_dat.find_all(\"{}:{}-summary\".format(ty,ty)):\n",
    "        affl_dict = {}\n",
    "\n",
    "        org = e.find(\"common:organization\".format(ty))\n",
    "        if org:\n",
    "            affl_dict['org_name'] = org.find(\"common:name\")\n",
    "            addr = org.find(\"common:address\")\n",
    "            if addr:\n",
    "                affl_dict['org_country'] = addr.find('common:country')\n",
    "            else:\n",
    "                affl_dict['org_country'] = None\n",
    "        else:\n",
    "            affl_dict['org_name'] = None\n",
    "            affl_dict['org_country'] = None\n",
    "\n",
    "        startdate = e.find(\"common:start-date\")\n",
    "        enddate = e.find(\"common:end-date\")\n",
    "        if startdate:\n",
    "            affl_dict['start_month'] = startdate.find(\"common:month\")\n",
    "            affl_dict['start_year'] = startdate.find(\"common:year\")\n",
    "        elif enddate:\n",
    "            affl_dict['start_month'] = enddate.find(\"common:month\")\n",
    "            affl_dict['start_year'] = enddate.find(\"common:year\")\n",
    "        else:\n",
    "            affl_dict['start_month'] = None\n",
    "            affl_dict['start_year'] = None\n",
    "        \n",
    "        affl_dict['role'] = e.find(\"common:role-title\".format(ty))\n",
    "        affl_dict['dept'] = e.find(\"common:department-name\".format(ty))\n",
    "\n",
    "        affl_dict = clean_dict(affl_dict)\n",
    "        \n",
    "        affl_dict['type'] = ty\n",
    "        \n",
    "        disamb_org = e.find(\"common:disambiguated-organization\")\n",
    "        if disamb_org:\n",
    "            affl_dict['disamb_org'] = disamb_org.text.strip().replace(\"\\n\", \" \")\n",
    "        else:\n",
    "            affl_dict['disamb_org'] = None\n",
    "        affiliations.append(affl_dict)\n",
    "    return affiliations\n",
    "\n",
    "def gen_orcid(user_dat):\n",
    "    orcid = user_dat.find(\"common:orcid-identifier\")\n",
    "    if orcid:\n",
    "        oi = orcid.find(\"common:path\")\n",
    "        if oi:\n",
    "            return oi.text\n",
    "    return None\n"
   ]
  },
  {
   "cell_type": "markdown",
   "metadata": {},
   "source": [
    "# Load in Bio, Affiliation data"
   ]
  },
  {
   "cell_type": "markdown",
   "metadata": {},
   "source": [
    "# Code for raw dump\n"
   ]
  },
  {
   "cell_type": "code",
   "execution_count": 43,
   "metadata": {
    "collapsed": true
   },
   "outputs": [],
   "source": [
    "DATA_DIR = \"/net/twitter/kenny-data/branching_pipeline/\"\n",
    "BIOS_DIR = os.path.join(DATA_DIR, \"bios_dir\")\n",
    "AFFILIATIONS_DIR = os.path.join(DATA_DIR, \"affiliations_dir\")"
   ]
  },
  {
   "cell_type": "code",
   "execution_count": 44,
   "metadata": {},
   "outputs": [
    {
     "name": "stdout",
     "output_type": "stream",
     "text": [
      "SKIP THIS SECTION YOU HAVE THE PREPROCESSED DATA GO TO THE SECTION STARTING WITH Code for Pre-processed...\n"
     ]
    }
   ],
   "source": [
    "import os\n",
    "if os.path.exists(BIOS_DIR):\n",
    "    print('SKIP THIS SECTION YOU HAVE THE PREPROCESSED DATA GO TO THE SECTION STARTING WITH Code for Pre-processed...')"
   ]
  },
  {
   "cell_type": "code",
   "execution_count": 26,
   "metadata": {
    "collapsed": true
   },
   "outputs": [],
   "source": [
    "try:\n",
    "    os.mkdir(BIOS_DIR)\n",
    "    os.mkdir(AFFILIATIONS_DIR)\n",
    "except:\n",
    "    print(\"Dirs already created, you probably have the data\")"
   ]
  },
  {
   "cell_type": "code",
   "execution_count": 28,
   "metadata": {},
   "outputs": [
    {
     "data": {
      "text/plain": [
       "'000'"
      ]
     },
     "execution_count": 28,
     "metadata": {},
     "output_type": "execute_result"
    }
   ],
   "source": [
    "all_summaries_toplevel = glob(os.path.join(DATA_DIR,\"ORCID_2020_10_summaries\",\"*\"))\n"
   ]
  },
  {
   "cell_type": "code",
   "execution_count": null,
   "metadata": {
    "scrolled": true
   },
   "outputs": [
    {
     "name": "stdout",
     "output_type": "stream",
     "text": [
      "/net/twitter/kenny-data/branching_pipeline/ORCID_2020_10_summaries/168\n",
      "/net/twitter/kenny-data/branching_pipeline/ORCID_2020_10_summaries/042\n",
      "/net/twitter/kenny-data/branching_pipeline/ORCID_2020_10_summaries/000\n",
      "/net/twitter/kenny-data/branching_pipeline/ORCID_2020_10_summaries/084\n",
      "/net/twitter/kenny-data/branching_pipeline/ORCID_2020_10_summaries/126\n",
      "/net/twitter/kenny-data/branching_pipeline/ORCID_2020_10_summaries/20X\n",
      "/net/twitter/kenny-data/branching_pipeline/ORCID_2020_10_summaries/001\n",
      "/net/twitter/kenny-data/branching_pipeline/ORCID_2020_10_summaries/169\n",
      "/net/twitter/kenny-data/branching_pipeline/ORCID_2020_10_summaries/043\n",
      "/net/twitter/kenny-data/branching_pipeline/ORCID_2020_10_summaries/085\n",
      "/net/twitter/kenny-data/branching_pipeline/ORCID_2020_10_summaries/127\n",
      "/net/twitter/kenny-data/branching_pipeline/ORCID_2020_10_summaries/210\n",
      "/net/twitter/kenny-data/branching_pipeline/ORCID_2020_10_summaries/002\n",
      "/net/twitter/kenny-data/branching_pipeline/ORCID_2020_10_summaries/16X\n",
      "/net/twitter/kenny-data/branching_pipeline/ORCID_2020_10_summaries/044\n",
      "/net/twitter/kenny-data/branching_pipeline/ORCID_2020_10_summaries/086\n",
      "/net/twitter/kenny-data/branching_pipeline/ORCID_2020_10_summaries/128\n",
      "/net/twitter/kenny-data/branching_pipeline/ORCID_2020_10_summaries/211\n",
      "/net/twitter/kenny-data/branching_pipeline/ORCID_2020_10_summaries/170\n",
      "/net/twitter/kenny-data/branching_pipeline/ORCID_2020_10_summaries/087\n",
      "/net/twitter/kenny-data/branching_pipeline/ORCID_2020_10_summaries/003\n",
      "/net/twitter/kenny-data/branching_pipeline/ORCID_2020_10_summaries/045\n",
      "/net/twitter/kenny-data/branching_pipeline/ORCID_2020_10_summaries/129\n",
      "/net/twitter/kenny-data/branching_pipeline/ORCID_2020_10_summaries/212\n",
      "/net/twitter/kenny-data/branching_pipeline/ORCID_2020_10_summaries/171\n",
      "/net/twitter/kenny-data/branching_pipeline/ORCID_2020_10_summaries/088\n",
      "/net/twitter/kenny-data/branching_pipeline/ORCID_2020_10_summaries/004\n",
      "/net/twitter/kenny-data/branching_pipeline/ORCID_2020_10_summaries/046\n",
      "/net/twitter/kenny-data/branching_pipeline/ORCID_2020_10_summaries/12X\n",
      "/net/twitter/kenny-data/branching_pipeline/ORCID_2020_10_summaries/213\n",
      "/net/twitter/kenny-data/branching_pipeline/ORCID_2020_10_summaries/089\n",
      "/net/twitter/kenny-data/branching_pipeline/ORCID_2020_10_summaries/172\n",
      "/net/twitter/kenny-data/branching_pipeline/ORCID_2020_10_summaries/130\n",
      "/net/twitter/kenny-data/branching_pipeline/ORCID_2020_10_summaries/005\n",
      "/net/twitter/kenny-data/branching_pipeline/ORCID_2020_10_summaries/047\n",
      "/net/twitter/kenny-data/branching_pipeline/ORCID_2020_10_summaries/214\n",
      "/net/twitter/kenny-data/branching_pipeline/ORCID_2020_10_summaries/173\n",
      "/net/twitter/kenny-data/branching_pipeline/ORCID_2020_10_summaries/08X\n",
      "/net/twitter/kenny-data/branching_pipeline/ORCID_2020_10_summaries/131\n",
      "/net/twitter/kenny-data/branching_pipeline/ORCID_2020_10_summaries/006\n",
      "/net/twitter/kenny-data/branching_pipeline/ORCID_2020_10_summaries/048\n",
      "/net/twitter/kenny-data/branching_pipeline/ORCID_2020_10_summaries/215\n",
      "/net/twitter/kenny-data/branching_pipeline/ORCID_2020_10_summaries/174\n",
      "/net/twitter/kenny-data/branching_pipeline/ORCID_2020_10_summaries/132\n",
      "/net/twitter/kenny-data/branching_pipeline/ORCID_2020_10_summaries/090\n",
      "/net/twitter/kenny-data/branching_pipeline/ORCID_2020_10_summaries/007\n",
      "/net/twitter/kenny-data/branching_pipeline/ORCID_2020_10_summaries/049\n"
     ]
    }
   ],
   "source": [
    "\n",
    "def gen_fil_from_toplevel(toplevel_dir):\n",
    "    bios = []\n",
    "    affiliations = []\n",
    "    for i,fil in enumerate(glob(os.path.join(toplevel_dir,\"*\"))):\n",
    "        user_dat =BeautifulSoup(open(fil))\n",
    "        userinfo = {\"orcid\": gen_orcid(user_dat),\n",
    "                     \"bio\" : gen_bio(user_dat),\n",
    "                     \"affiliations\":  gen_affl(user_dat, \"employment\") + gen_affl(user_dat, \"education\")\n",
    "                   }\n",
    "        oid = userinfo['orcid']\n",
    "        for af in userinfo['affiliations']:\n",
    "            af['oid'] = oid\n",
    "            affiliations.append(af)\n",
    "        userinfo['bio']['oid'] = oid\n",
    "        bios.append(userinfo['bio'])\n",
    "        \n",
    "    basename_dir = os.path.basename(toplevel_dir)\n",
    "    with gzip.open(os.path.join(DATA_DIR,\"bios_dir\",\n",
    "                                basename_dir+\".json.gz\"),\n",
    "                   \"w\") as bio_out:\n",
    "        for bio in bios:\n",
    "            bio_out.write((json.dumps(bio)+\"\\n\").encode())\n",
    "    with gzip.open(os.path.join(DATA_DIR,\"affiliations_dir\",\n",
    "                                basename_dir+\".json.gz\"),\n",
    "                    \"w\") as affiliations_out:\n",
    "        for affiliation in affiliations:\n",
    "            affiliations_out.write((json.dumps(affiliation)+\"\\n\").encode())\n",
    "    print(toplevel_dir)\n",
    "    \n",
    "\n",
    "from multiprocessing import Pool\n",
    "\n",
    "with Pool(processes=6) as pool:\n",
    "    pool.map(gen_fil_from_toplevel, all_summaries_toplevel)\n",
    "\n",
    "\n",
    "        \n"
   ]
  },
  {
   "cell_type": "markdown",
   "metadata": {},
   "source": [
    "# Code for pre-processed dumps"
   ]
  },
  {
   "cell_type": "code",
   "execution_count": 47,
   "metadata": {
    "collapsed": true
   },
   "outputs": [],
   "source": [
    "bios = []\n",
    "for fil in glob(os.path.join(BIOS_DIR,\"*\")):\n",
    "    with gzip.open(fil) as inf:\n",
    "        bios += [json.loads(b) for b in inf]\n",
    "\n",
    "affiliations = []\n",
    "for fil in glob(os.path.join(AFFILIATIONS_DIR,\"*\")):\n",
    "    with gzip.open(fil) as inf:\n",
    "        affiliations += [json.loads(a) for a in inf]"
   ]
  },
  {
   "cell_type": "markdown",
   "metadata": {},
   "source": [
    "# Data Frame for bios/affiliations\n"
   ]
  },
  {
   "cell_type": "code",
   "execution_count": 48,
   "metadata": {
    "collapsed": true
   },
   "outputs": [],
   "source": [
    "# # Create bio dataframe\n",
    "bio_df = pd.DataFrame(bios)"
   ]
  },
  {
   "cell_type": "code",
   "execution_count": 49,
   "metadata": {},
   "outputs": [
    {
     "data": {
      "text/plain": [
       "(9747030, 5)"
      ]
     },
     "execution_count": 49,
     "metadata": {},
     "output_type": "execute_result"
    }
   ],
   "source": [
    "bio_df.shape"
   ]
  },
  {
   "cell_type": "code",
   "execution_count": 50,
   "metadata": {
    "collapsed": true
   },
   "outputs": [],
   "source": [
    "# Create the DF \n",
    "df = pd.DataFrame(affiliations)\n",
    "\n",
    "# merge affiliations with bios\n",
    "df = pd.merge(df,bio_df, on=\"oid\")"
   ]
  },
  {
   "cell_type": "code",
   "execution_count": 51,
   "metadata": {},
   "outputs": [
    {
     "data": {
      "text/plain": [
       "((9747030, 5), 9600248)"
      ]
     },
     "execution_count": 51,
     "metadata": {},
     "output_type": "execute_result"
    }
   ],
   "source": [
    "bio_df.shape, bio_df.oid.nunique()"
   ]
  },
  {
   "cell_type": "code",
   "execution_count": 52,
   "metadata": {
    "collapsed": true
   },
   "outputs": [],
   "source": [
    "bio_df = bio_df.groupby(\"oid\").last().reset_index()"
   ]
  },
  {
   "cell_type": "code",
   "execution_count": 53,
   "metadata": {},
   "outputs": [
    {
     "data": {
      "text/html": [
       "<div>\n",
       "<style scoped>\n",
       "    .dataframe tbody tr th:only-of-type {\n",
       "        vertical-align: middle;\n",
       "    }\n",
       "\n",
       "    .dataframe tbody tr th {\n",
       "        vertical-align: top;\n",
       "    }\n",
       "\n",
       "    .dataframe thead th {\n",
       "        text-align: right;\n",
       "    }\n",
       "</style>\n",
       "<table border=\"1\" class=\"dataframe\">\n",
       "  <thead>\n",
       "    <tr style=\"text-align: right;\">\n",
       "      <th></th>\n",
       "      <th>oid</th>\n",
       "      <th>person_created_prof_date</th>\n",
       "      <th>person_last_mod_date</th>\n",
       "      <th>person_first_name</th>\n",
       "      <th>person_last_name</th>\n",
       "    </tr>\n",
       "  </thead>\n",
       "  <tbody>\n",
       "    <tr>\n",
       "      <th>0</th>\n",
       "      <td>0000-0001-5000-0015</td>\n",
       "      <td>2016-04-15T20:44:30.144Z</td>\n",
       "      <td>2016-04-15T20:44:30.144Z</td>\n",
       "      <td>Shittu</td>\n",
       "      <td>Olufunke</td>\n",
       "    </tr>\n",
       "    <tr>\n",
       "      <th>1</th>\n",
       "      <td>0000-0001-5000-0023</td>\n",
       "      <td>2019-06-10T10:59:37.348Z</td>\n",
       "      <td>2019-06-10T11:04:55.174Z</td>\n",
       "      <td>Alisher</td>\n",
       "      <td>Ibrayev</td>\n",
       "    </tr>\n",
       "    <tr>\n",
       "      <th>2</th>\n",
       "      <td>0000-0001-5000-0031</td>\n",
       "      <td>2018-03-14T00:58:04.681Z</td>\n",
       "      <td>2018-03-14T00:58:04.908Z</td>\n",
       "      <td>Jieun</td>\n",
       "      <td>Kim</td>\n",
       "    </tr>\n",
       "    <tr>\n",
       "      <th>3</th>\n",
       "      <td>0000-0001-5000-0066</td>\n",
       "      <td>2018-11-28T19:03:37.722Z</td>\n",
       "      <td>2018-11-28T19:03:37.950Z</td>\n",
       "      <td>Ivan</td>\n",
       "      <td>Salazar</td>\n",
       "    </tr>\n",
       "    <tr>\n",
       "      <th>4</th>\n",
       "      <td>0000-0001-5000-0074</td>\n",
       "      <td>2017-03-31T02:53:39.703Z</td>\n",
       "      <td>2018-09-27T02:18:44.516Z</td>\n",
       "      <td>Susan</td>\n",
       "      <td>Luong</td>\n",
       "    </tr>\n",
       "  </tbody>\n",
       "</table>\n",
       "</div>"
      ],
      "text/plain": [
       "                   oid  person_created_prof_date      person_last_mod_date  \\\n",
       "0  0000-0001-5000-0015  2016-04-15T20:44:30.144Z  2016-04-15T20:44:30.144Z   \n",
       "1  0000-0001-5000-0023  2019-06-10T10:59:37.348Z  2019-06-10T11:04:55.174Z   \n",
       "2  0000-0001-5000-0031  2018-03-14T00:58:04.681Z  2018-03-14T00:58:04.908Z   \n",
       "3  0000-0001-5000-0066  2018-11-28T19:03:37.722Z  2018-11-28T19:03:37.950Z   \n",
       "4  0000-0001-5000-0074  2017-03-31T02:53:39.703Z  2018-09-27T02:18:44.516Z   \n",
       "\n",
       "  person_first_name person_last_name  \n",
       "0            Shittu         Olufunke  \n",
       "1           Alisher          Ibrayev  \n",
       "2             Jieun              Kim  \n",
       "3              Ivan          Salazar  \n",
       "4             Susan            Luong  "
      ]
     },
     "execution_count": 53,
     "metadata": {},
     "output_type": "execute_result"
    }
   ],
   "source": [
    "bio_df.head()"
   ]
  },
  {
   "cell_type": "code",
   "execution_count": 54,
   "metadata": {},
   "outputs": [
    {
     "data": {
      "text/html": [
       "<div>\n",
       "<style scoped>\n",
       "    .dataframe tbody tr th:only-of-type {\n",
       "        vertical-align: middle;\n",
       "    }\n",
       "\n",
       "    .dataframe tbody tr th {\n",
       "        vertical-align: top;\n",
       "    }\n",
       "\n",
       "    .dataframe thead th {\n",
       "        text-align: right;\n",
       "    }\n",
       "</style>\n",
       "<table border=\"1\" class=\"dataframe\">\n",
       "  <thead>\n",
       "    <tr style=\"text-align: right;\">\n",
       "      <th></th>\n",
       "      <th>org_name</th>\n",
       "      <th>org_country</th>\n",
       "      <th>start_month</th>\n",
       "      <th>start_year</th>\n",
       "      <th>role</th>\n",
       "      <th>dept</th>\n",
       "      <th>type</th>\n",
       "      <th>disamb_org</th>\n",
       "      <th>oid</th>\n",
       "      <th>person_created_prof_date</th>\n",
       "      <th>person_last_mod_date</th>\n",
       "      <th>person_first_name</th>\n",
       "      <th>person_last_name</th>\n",
       "    </tr>\n",
       "  </thead>\n",
       "  <tbody>\n",
       "    <tr>\n",
       "      <th>0</th>\n",
       "      <td>Niagara College</td>\n",
       "      <td>CA</td>\n",
       "      <td>09</td>\n",
       "      <td>1976</td>\n",
       "      <td>Library Technician Diploma</td>\n",
       "      <td>None</td>\n",
       "      <td>education</td>\n",
       "      <td>125147 RINGGOLD</td>\n",
       "      <td>0000-0001-5109-1000</td>\n",
       "      <td>2019-05-01T13:04:57.507Z</td>\n",
       "      <td>2019-05-01T13:45:47.727Z</td>\n",
       "      <td>Andrew</td>\n",
       "      <td>Porteus</td>\n",
       "    </tr>\n",
       "    <tr>\n",
       "      <th>1</th>\n",
       "      <td>PCSIR Labs. Complex, Ferozepur Road</td>\n",
       "      <td>PK</td>\n",
       "      <td>03</td>\n",
       "      <td>2001</td>\n",
       "      <td>Scientific Officer</td>\n",
       "      <td>Applied Chemistry Research Centre</td>\n",
       "      <td>employment</td>\n",
       "      <td>None</td>\n",
       "      <td>0000-0001-5042-7000</td>\n",
       "      <td>2016-04-15T20:46:17.804Z</td>\n",
       "      <td>2016-04-15T20:46:17.804Z</td>\n",
       "      <td>Muhammad Usman</td>\n",
       "      <td>Sabri</td>\n",
       "    </tr>\n",
       "    <tr>\n",
       "      <th>2</th>\n",
       "      <td>University of the Punjab</td>\n",
       "      <td>PK</td>\n",
       "      <td>None</td>\n",
       "      <td>2001</td>\n",
       "      <td>Master</td>\n",
       "      <td>Chemistry</td>\n",
       "      <td>education</td>\n",
       "      <td>66906 RINGGOLD</td>\n",
       "      <td>0000-0001-5042-7000</td>\n",
       "      <td>2016-04-15T20:46:17.804Z</td>\n",
       "      <td>2016-04-15T20:46:17.804Z</td>\n",
       "      <td>Muhammad Usman</td>\n",
       "      <td>Sabri</td>\n",
       "    </tr>\n",
       "    <tr>\n",
       "      <th>3</th>\n",
       "      <td>University College London Hospitals NHS Founda...</td>\n",
       "      <td>GB</td>\n",
       "      <td>07</td>\n",
       "      <td>2014</td>\n",
       "      <td>Consultant Neuroradiologist</td>\n",
       "      <td>Lysholm Department of Neuroradiology</td>\n",
       "      <td>employment</td>\n",
       "      <td>98546 RINGGOLD</td>\n",
       "      <td>0000-0001-5136-6000</td>\n",
       "      <td>2018-02-07T09:59:17.219Z</td>\n",
       "      <td>2018-02-07T09:59:17.444Z</td>\n",
       "      <td>Steffi</td>\n",
       "      <td>Thust</td>\n",
       "    </tr>\n",
       "    <tr>\n",
       "      <th>4</th>\n",
       "      <td>University of Al-Ameed</td>\n",
       "      <td>IQ</td>\n",
       "      <td>None</td>\n",
       "      <td>None</td>\n",
       "      <td>Dr.</td>\n",
       "      <td>Pharmacology</td>\n",
       "      <td>employment</td>\n",
       "      <td>None</td>\n",
       "      <td>0000-0001-5002-1000</td>\n",
       "      <td>2019-03-19T10:17:07.129Z</td>\n",
       "      <td>2019-03-19T10:17:07.366Z</td>\n",
       "      <td>Sameer</td>\n",
       "      <td>Abbood</td>\n",
       "    </tr>\n",
       "  </tbody>\n",
       "</table>\n",
       "</div>"
      ],
      "text/plain": [
       "                                            org_name org_country start_month  \\\n",
       "0                                    Niagara College          CA          09   \n",
       "1                PCSIR Labs. Complex, Ferozepur Road          PK          03   \n",
       "2                           University of the Punjab          PK        None   \n",
       "3  University College London Hospitals NHS Founda...          GB          07   \n",
       "4                             University of Al-Ameed          IQ        None   \n",
       "\n",
       "  start_year                         role  \\\n",
       "0       1976   Library Technician Diploma   \n",
       "1       2001           Scientific Officer   \n",
       "2       2001                       Master   \n",
       "3       2014  Consultant Neuroradiologist   \n",
       "4       None                          Dr.   \n",
       "\n",
       "                                   dept        type       disamb_org  \\\n",
       "0                                  None   education  125147 RINGGOLD   \n",
       "1     Applied Chemistry Research Centre  employment             None   \n",
       "2                             Chemistry   education   66906 RINGGOLD   \n",
       "3  Lysholm Department of Neuroradiology  employment   98546 RINGGOLD   \n",
       "4                          Pharmacology  employment             None   \n",
       "\n",
       "                   oid  person_created_prof_date      person_last_mod_date  \\\n",
       "0  0000-0001-5109-1000  2019-05-01T13:04:57.507Z  2019-05-01T13:45:47.727Z   \n",
       "1  0000-0001-5042-7000  2016-04-15T20:46:17.804Z  2016-04-15T20:46:17.804Z   \n",
       "2  0000-0001-5042-7000  2016-04-15T20:46:17.804Z  2016-04-15T20:46:17.804Z   \n",
       "3  0000-0001-5136-6000  2018-02-07T09:59:17.219Z  2018-02-07T09:59:17.444Z   \n",
       "4  0000-0001-5002-1000  2019-03-19T10:17:07.129Z  2019-03-19T10:17:07.366Z   \n",
       "\n",
       "  person_first_name person_last_name  \n",
       "0            Andrew          Porteus  \n",
       "1    Muhammad Usman            Sabri  \n",
       "2    Muhammad Usman            Sabri  \n",
       "3            Steffi            Thust  \n",
       "4            Sameer           Abbood  "
      ]
     },
     "execution_count": 54,
     "metadata": {},
     "output_type": "execute_result"
    }
   ],
   "source": [
    "df.head()"
   ]
  },
  {
   "cell_type": "code",
   "execution_count": 55,
   "metadata": {},
   "outputs": [
    {
     "data": {
      "text/plain": [
       "(8146175, 13)"
      ]
     },
     "execution_count": 55,
     "metadata": {},
     "output_type": "execute_result"
    }
   ],
   "source": [
    "df.shape"
   ]
  },
  {
   "cell_type": "markdown",
   "metadata": {},
   "source": [
    "# Affiliations per person\n",
    "\n",
    "We probably want to toss people who have a crazy number of affiliations"
   ]
  },
  {
   "cell_type": "code",
   "execution_count": 56,
   "metadata": {
    "collapsed": true
   },
   "outputs": [],
   "source": [
    "# How many affiliations per person\n",
    "affiliations_per_person = df.groupby(\"oid\").size()"
   ]
  },
  {
   "cell_type": "code",
   "execution_count": 57,
   "metadata": {},
   "outputs": [
    {
     "data": {
      "text/plain": [
       "(3006777,)"
      ]
     },
     "execution_count": 57,
     "metadata": {},
     "output_type": "execute_result"
    }
   ],
   "source": [
    "affiliations_per_person.shape"
   ]
  },
  {
   "cell_type": "code",
   "execution_count": 58,
   "metadata": {
    "collapsed": true
   },
   "outputs": [],
   "source": [
    "affl_percentage_cum = (affiliations_per_person.value_counts()/float(len(affiliations_per_person))).cumsum()"
   ]
  },
  {
   "cell_type": "code",
   "execution_count": 59,
   "metadata": {},
   "outputs": [
    {
     "data": {
      "text/plain": [
       "(1939081,)"
      ]
     },
     "execution_count": 59,
     "metadata": {},
     "output_type": "execute_result"
    }
   ],
   "source": [
    "affiliations_per_person[affiliations_per_person > 1].shape"
   ]
  },
  {
   "cell_type": "code",
   "execution_count": 60,
   "metadata": {},
   "outputs": [
    {
     "data": {
      "text/plain": [
       "1     0.355097\n",
       "2     0.635458\n",
       "3     0.766007\n",
       "4     0.855954\n",
       "5     0.909426\n",
       "6     0.942817\n",
       "7     0.963675\n",
       "8     0.976755\n",
       "9     0.984806\n",
       "10    0.989952\n",
       "11    0.993112\n",
       "12    0.995240\n",
       "13    0.996622\n",
       "14    0.997552\n",
       "15    0.998184\n",
       "dtype: float64"
      ]
     },
     "execution_count": 60,
     "metadata": {},
     "output_type": "execute_result"
    }
   ],
   "source": [
    "# Cumsum of affiliations per person - we can toss ppl with > 12 affiliations and lose only .05% of the data\n",
    "affl_percentage_cum.head(15)\n",
    "\n",
    "#what are these 2 affiliations?"
   ]
  },
  {
   "cell_type": "code",
   "execution_count": 61,
   "metadata": {},
   "outputs": [
    {
     "data": {
      "text/plain": [
       "oid\n",
       "0000-0001-5009-0233    19\n",
       "0000-0001-5026-5865    16\n",
       "0000-0001-5026-7115    16\n",
       "0000-0001-5027-9837    22\n",
       "0000-0001-5033-9086    23\n",
       "0000-0001-5034-8476    18\n",
       "0000-0001-5043-5174    16\n",
       "0000-0001-5043-7719    17\n",
       "0000-0001-5048-8495    20\n",
       "0000-0001-5050-0810    17\n",
       "dtype: int64"
      ]
     },
     "execution_count": 61,
     "metadata": {},
     "output_type": "execute_result"
    }
   ],
   "source": [
    "affiliations_per_person[ affiliations_per_person > 15][:10]"
   ]
  },
  {
   "cell_type": "code",
   "execution_count": 62,
   "metadata": {},
   "outputs": [
    {
     "name": "stdout",
     "output_type": "stream",
     "text": [
      "(7726874, 13)\n"
     ]
    },
    {
     "data": {
      "text/plain": [
       "2992464"
      ]
     },
     "execution_count": 62,
     "metadata": {},
     "output_type": "execute_result"
    }
   ],
   "source": [
    "# Remove ppl with > 12 affiliations\n",
    "\n",
    "df = df[df.oid.isin(affiliations_per_person[affiliations_per_person < 13].index.values)]\n",
    "print(df.shape)\n",
    "# How many ppl. do we have a this point?\n",
    "df.oid.nunique()"
   ]
  },
  {
   "cell_type": "markdown",
   "metadata": {},
   "source": [
    "# Role Categorization\n",
    "\n",
    "Using a series of regular expressions, we categorize what role a given affiliation represents.  \n",
    "We determine a role by the highest matching role we identify (using the regular expressions, \n",
    "in the order of roles in the code below).  If there is no match, we will give the affiliation\n",
    "a blank role"
   ]
  },
  {
   "cell_type": "markdown",
   "metadata": {},
   "source": [
    "## Clean Role text"
   ]
  },
  {
   "cell_type": "code",
   "execution_count": 63,
   "metadata": {
    "collapsed": true
   },
   "outputs": [],
   "source": [
    "clean_role = df.role.apply(lambda x : x.strip().replace(\".\",\"\").lower() if x else None)\n",
    "df = df.assign(clean_role=clean_role)\n",
    "roles = df.clean_role.value_counts()"
   ]
  },
  {
   "cell_type": "code",
   "execution_count": 64,
   "metadata": {},
   "outputs": [
    {
     "data": {
      "text/html": [
       "<div>\n",
       "<style scoped>\n",
       "    .dataframe tbody tr th:only-of-type {\n",
       "        vertical-align: middle;\n",
       "    }\n",
       "\n",
       "    .dataframe tbody tr th {\n",
       "        vertical-align: top;\n",
       "    }\n",
       "\n",
       "    .dataframe thead th {\n",
       "        text-align: right;\n",
       "    }\n",
       "</style>\n",
       "<table border=\"1\" class=\"dataframe\">\n",
       "  <thead>\n",
       "    <tr style=\"text-align: right;\">\n",
       "      <th></th>\n",
       "      <th>org_name</th>\n",
       "      <th>org_country</th>\n",
       "      <th>start_month</th>\n",
       "      <th>start_year</th>\n",
       "      <th>role</th>\n",
       "      <th>dept</th>\n",
       "      <th>type</th>\n",
       "      <th>disamb_org</th>\n",
       "      <th>oid</th>\n",
       "      <th>person_created_prof_date</th>\n",
       "      <th>person_last_mod_date</th>\n",
       "      <th>person_first_name</th>\n",
       "      <th>person_last_name</th>\n",
       "      <th>clean_role</th>\n",
       "    </tr>\n",
       "  </thead>\n",
       "  <tbody>\n",
       "    <tr>\n",
       "      <th>0</th>\n",
       "      <td>Niagara College</td>\n",
       "      <td>CA</td>\n",
       "      <td>09</td>\n",
       "      <td>1976</td>\n",
       "      <td>Library Technician Diploma</td>\n",
       "      <td>None</td>\n",
       "      <td>education</td>\n",
       "      <td>125147 RINGGOLD</td>\n",
       "      <td>0000-0001-5109-1000</td>\n",
       "      <td>2019-05-01T13:04:57.507Z</td>\n",
       "      <td>2019-05-01T13:45:47.727Z</td>\n",
       "      <td>Andrew</td>\n",
       "      <td>Porteus</td>\n",
       "      <td>library technician diploma</td>\n",
       "    </tr>\n",
       "    <tr>\n",
       "      <th>1</th>\n",
       "      <td>PCSIR Labs. Complex, Ferozepur Road</td>\n",
       "      <td>PK</td>\n",
       "      <td>03</td>\n",
       "      <td>2001</td>\n",
       "      <td>Scientific Officer</td>\n",
       "      <td>Applied Chemistry Research Centre</td>\n",
       "      <td>employment</td>\n",
       "      <td>None</td>\n",
       "      <td>0000-0001-5042-7000</td>\n",
       "      <td>2016-04-15T20:46:17.804Z</td>\n",
       "      <td>2016-04-15T20:46:17.804Z</td>\n",
       "      <td>Muhammad Usman</td>\n",
       "      <td>Sabri</td>\n",
       "      <td>scientific officer</td>\n",
       "    </tr>\n",
       "    <tr>\n",
       "      <th>2</th>\n",
       "      <td>University of the Punjab</td>\n",
       "      <td>PK</td>\n",
       "      <td>None</td>\n",
       "      <td>2001</td>\n",
       "      <td>Master</td>\n",
       "      <td>Chemistry</td>\n",
       "      <td>education</td>\n",
       "      <td>66906 RINGGOLD</td>\n",
       "      <td>0000-0001-5042-7000</td>\n",
       "      <td>2016-04-15T20:46:17.804Z</td>\n",
       "      <td>2016-04-15T20:46:17.804Z</td>\n",
       "      <td>Muhammad Usman</td>\n",
       "      <td>Sabri</td>\n",
       "      <td>master</td>\n",
       "    </tr>\n",
       "    <tr>\n",
       "      <th>3</th>\n",
       "      <td>University College London Hospitals NHS Founda...</td>\n",
       "      <td>GB</td>\n",
       "      <td>07</td>\n",
       "      <td>2014</td>\n",
       "      <td>Consultant Neuroradiologist</td>\n",
       "      <td>Lysholm Department of Neuroradiology</td>\n",
       "      <td>employment</td>\n",
       "      <td>98546 RINGGOLD</td>\n",
       "      <td>0000-0001-5136-6000</td>\n",
       "      <td>2018-02-07T09:59:17.219Z</td>\n",
       "      <td>2018-02-07T09:59:17.444Z</td>\n",
       "      <td>Steffi</td>\n",
       "      <td>Thust</td>\n",
       "      <td>consultant neuroradiologist</td>\n",
       "    </tr>\n",
       "    <tr>\n",
       "      <th>4</th>\n",
       "      <td>University of Al-Ameed</td>\n",
       "      <td>IQ</td>\n",
       "      <td>None</td>\n",
       "      <td>None</td>\n",
       "      <td>Dr.</td>\n",
       "      <td>Pharmacology</td>\n",
       "      <td>employment</td>\n",
       "      <td>None</td>\n",
       "      <td>0000-0001-5002-1000</td>\n",
       "      <td>2019-03-19T10:17:07.129Z</td>\n",
       "      <td>2019-03-19T10:17:07.366Z</td>\n",
       "      <td>Sameer</td>\n",
       "      <td>Abbood</td>\n",
       "      <td>dr</td>\n",
       "    </tr>\n",
       "    <tr>\n",
       "      <th>...</th>\n",
       "      <td>...</td>\n",
       "      <td>...</td>\n",
       "      <td>...</td>\n",
       "      <td>...</td>\n",
       "      <td>...</td>\n",
       "      <td>...</td>\n",
       "      <td>...</td>\n",
       "      <td>...</td>\n",
       "      <td>...</td>\n",
       "      <td>...</td>\n",
       "      <td>...</td>\n",
       "      <td>...</td>\n",
       "      <td>...</td>\n",
       "      <td>...</td>\n",
       "    </tr>\n",
       "    <tr>\n",
       "      <th>8146170</th>\n",
       "      <td>Macquarie University</td>\n",
       "      <td>AU</td>\n",
       "      <td>None</td>\n",
       "      <td>None</td>\n",
       "      <td>None</td>\n",
       "      <td>None</td>\n",
       "      <td>employment</td>\n",
       "      <td>7788 RINGGOLD</td>\n",
       "      <td>0000-0003-4957-3961</td>\n",
       "      <td>2016-09-08T00:54:38.504Z</td>\n",
       "      <td>2020-05-14T21:23:32.385Z</td>\n",
       "      <td>Jonathan</td>\n",
       "      <td>Williamson</td>\n",
       "      <td>None</td>\n",
       "    </tr>\n",
       "    <tr>\n",
       "      <th>8146171</th>\n",
       "      <td>Macquarie University Hospital</td>\n",
       "      <td>AU</td>\n",
       "      <td>01</td>\n",
       "      <td>2012</td>\n",
       "      <td>Visiting Medical Officer</td>\n",
       "      <td>Macquarie Respiratory and Sleep</td>\n",
       "      <td>employment</td>\n",
       "      <td>150782 RINGGOLD</td>\n",
       "      <td>0000-0003-4957-3961</td>\n",
       "      <td>2016-09-08T00:54:38.504Z</td>\n",
       "      <td>2020-05-14T21:23:32.385Z</td>\n",
       "      <td>Jonathan</td>\n",
       "      <td>Williamson</td>\n",
       "      <td>visiting medical officer</td>\n",
       "    </tr>\n",
       "    <tr>\n",
       "      <th>8146172</th>\n",
       "      <td>South Western Sydney Local Health District</td>\n",
       "      <td>AU</td>\n",
       "      <td>02</td>\n",
       "      <td>2010</td>\n",
       "      <td>Staff Specialist</td>\n",
       "      <td>Respiratory and Sleep Medicine</td>\n",
       "      <td>employment</td>\n",
       "      <td>1511 RINGGOLD</td>\n",
       "      <td>0000-0003-4957-3961</td>\n",
       "      <td>2016-09-08T00:54:38.504Z</td>\n",
       "      <td>2020-05-14T21:23:32.385Z</td>\n",
       "      <td>Jonathan</td>\n",
       "      <td>Williamson</td>\n",
       "      <td>staff specialist</td>\n",
       "    </tr>\n",
       "    <tr>\n",
       "      <th>8146173</th>\n",
       "      <td>University of Western Australia</td>\n",
       "      <td>AU</td>\n",
       "      <td>02</td>\n",
       "      <td>2007</td>\n",
       "      <td>Phd</td>\n",
       "      <td>Anatomy and Biological Sciences</td>\n",
       "      <td>education</td>\n",
       "      <td>2720 RINGGOLD</td>\n",
       "      <td>0000-0003-4957-3961</td>\n",
       "      <td>2016-09-08T00:54:38.504Z</td>\n",
       "      <td>2020-05-14T21:23:32.385Z</td>\n",
       "      <td>Jonathan</td>\n",
       "      <td>Williamson</td>\n",
       "      <td>phd</td>\n",
       "    </tr>\n",
       "    <tr>\n",
       "      <th>8146174</th>\n",
       "      <td>University of New South Wales</td>\n",
       "      <td>AU</td>\n",
       "      <td>01</td>\n",
       "      <td>1993</td>\n",
       "      <td>MBBS (Hons I) Bsc (Med)</td>\n",
       "      <td>Faculty of Medicine</td>\n",
       "      <td>education</td>\n",
       "      <td>7800 RINGGOLD</td>\n",
       "      <td>0000-0003-4957-3961</td>\n",
       "      <td>2016-09-08T00:54:38.504Z</td>\n",
       "      <td>2020-05-14T21:23:32.385Z</td>\n",
       "      <td>Jonathan</td>\n",
       "      <td>Williamson</td>\n",
       "      <td>mbbs (hons i) bsc (med)</td>\n",
       "    </tr>\n",
       "  </tbody>\n",
       "</table>\n",
       "<p>7726874 rows × 14 columns</p>\n",
       "</div>"
      ],
      "text/plain": [
       "                                                  org_name org_country  \\\n",
       "0                                          Niagara College          CA   \n",
       "1                      PCSIR Labs. Complex, Ferozepur Road          PK   \n",
       "2                                 University of the Punjab          PK   \n",
       "3        University College London Hospitals NHS Founda...          GB   \n",
       "4                                   University of Al-Ameed          IQ   \n",
       "...                                                    ...         ...   \n",
       "8146170                               Macquarie University          AU   \n",
       "8146171                      Macquarie University Hospital          AU   \n",
       "8146172         South Western Sydney Local Health District          AU   \n",
       "8146173                    University of Western Australia          AU   \n",
       "8146174                      University of New South Wales          AU   \n",
       "\n",
       "        start_month start_year                         role  \\\n",
       "0                09       1976   Library Technician Diploma   \n",
       "1                03       2001           Scientific Officer   \n",
       "2              None       2001                       Master   \n",
       "3                07       2014  Consultant Neuroradiologist   \n",
       "4              None       None                          Dr.   \n",
       "...             ...        ...                          ...   \n",
       "8146170        None       None                         None   \n",
       "8146171          01       2012     Visiting Medical Officer   \n",
       "8146172          02       2010             Staff Specialist   \n",
       "8146173          02       2007                          Phd   \n",
       "8146174          01       1993      MBBS (Hons I) Bsc (Med)   \n",
       "\n",
       "                                         dept        type       disamb_org  \\\n",
       "0                                        None   education  125147 RINGGOLD   \n",
       "1           Applied Chemistry Research Centre  employment             None   \n",
       "2                                   Chemistry   education   66906 RINGGOLD   \n",
       "3        Lysholm Department of Neuroradiology  employment   98546 RINGGOLD   \n",
       "4                                Pharmacology  employment             None   \n",
       "...                                       ...         ...              ...   \n",
       "8146170                                  None  employment    7788 RINGGOLD   \n",
       "8146171       Macquarie Respiratory and Sleep  employment  150782 RINGGOLD   \n",
       "8146172        Respiratory and Sleep Medicine  employment    1511 RINGGOLD   \n",
       "8146173       Anatomy and Biological Sciences   education    2720 RINGGOLD   \n",
       "8146174                   Faculty of Medicine   education    7800 RINGGOLD   \n",
       "\n",
       "                         oid  person_created_prof_date  \\\n",
       "0        0000-0001-5109-1000  2019-05-01T13:04:57.507Z   \n",
       "1        0000-0001-5042-7000  2016-04-15T20:46:17.804Z   \n",
       "2        0000-0001-5042-7000  2016-04-15T20:46:17.804Z   \n",
       "3        0000-0001-5136-6000  2018-02-07T09:59:17.219Z   \n",
       "4        0000-0001-5002-1000  2019-03-19T10:17:07.129Z   \n",
       "...                      ...                       ...   \n",
       "8146170  0000-0003-4957-3961  2016-09-08T00:54:38.504Z   \n",
       "8146171  0000-0003-4957-3961  2016-09-08T00:54:38.504Z   \n",
       "8146172  0000-0003-4957-3961  2016-09-08T00:54:38.504Z   \n",
       "8146173  0000-0003-4957-3961  2016-09-08T00:54:38.504Z   \n",
       "8146174  0000-0003-4957-3961  2016-09-08T00:54:38.504Z   \n",
       "\n",
       "             person_last_mod_date person_first_name person_last_name  \\\n",
       "0        2019-05-01T13:45:47.727Z            Andrew          Porteus   \n",
       "1        2016-04-15T20:46:17.804Z    Muhammad Usman            Sabri   \n",
       "2        2016-04-15T20:46:17.804Z    Muhammad Usman            Sabri   \n",
       "3        2018-02-07T09:59:17.444Z            Steffi            Thust   \n",
       "4        2019-03-19T10:17:07.366Z            Sameer           Abbood   \n",
       "...                           ...               ...              ...   \n",
       "8146170  2020-05-14T21:23:32.385Z          Jonathan       Williamson   \n",
       "8146171  2020-05-14T21:23:32.385Z          Jonathan       Williamson   \n",
       "8146172  2020-05-14T21:23:32.385Z          Jonathan       Williamson   \n",
       "8146173  2020-05-14T21:23:32.385Z          Jonathan       Williamson   \n",
       "8146174  2020-05-14T21:23:32.385Z          Jonathan       Williamson   \n",
       "\n",
       "                          clean_role  \n",
       "0         library technician diploma  \n",
       "1                 scientific officer  \n",
       "2                             master  \n",
       "3        consultant neuroradiologist  \n",
       "4                                 dr  \n",
       "...                              ...  \n",
       "8146170                         None  \n",
       "8146171     visiting medical officer  \n",
       "8146172             staff specialist  \n",
       "8146173                          phd  \n",
       "8146174      mbbs (hons i) bsc (med)  \n",
       "\n",
       "[7726874 rows x 14 columns]"
      ]
     },
     "execution_count": 64,
     "metadata": {},
     "output_type": "execute_result"
    }
   ],
   "source": [
    "df"
   ]
  },
  {
   "cell_type": "markdown",
   "metadata": {},
   "source": [
    "## Find roles"
   ]
  },
  {
   "cell_type": "code",
   "execution_count": 65,
   "metadata": {
    "collapsed": true
   },
   "outputs": [],
   "source": [
    "regexes = [\n",
    " [\"research\", re.compile(\"research|scientist|scholar|ricercatore\")],\n",
    " [\"bachelors\", re.compile(\"(\\b|^|\\s)((b[ \\.]?(a|s|e|se|sc|s\\.e|sn)(\\b|$|\\s|\\.))|bachelor|btech|underg|licenciatura|graduação)\")],\n",
    " [\"masters/postgrad\", re.compile(\"(\\b|^|\\s)((m[\\. ]?(a|s|p|sc|as)(\\b|$|\\s|\\.))|master|^me$|mlis|mba|mbbs|postgrad|m[ \\.]?tech|mphil|mph|mestrado|magister|mbchb|meng|mlis)\")],\n",
    " [\"phd\",re.compile(\"^doctor(ate)?$|^d[\\.]?r[\\.]?$|^m[\\.]?d[\\.]?$|ph[ \\.]?d(\\b|$|\\s|\\.)|doctor of|d(\\. )?phil|doctorado|mestre|graduate student|(\\b|\\s|^)graduate (research|teaching)? ?assistant|pharmd|^jd$|doctoral student|doutor|doctorat\")],\n",
    " [\"postdoc\", re.compile(\"post[ o-]?d\")],\n",
    " [\"prof\", re.compile(u\"prof|(\\b|^|\\s)lect|faculty|reader|docente|instructor|доцент\")],\n",
    " ['head', re.compile(\"dean|director|head\")]\n",
    "]\n",
    "\n",
    "# for x in ['msc','m sc','manager','ma','ba ', 'bm', 'mas','b.a.', 'bastard', 'b.s.e.','d.r.','phd','phda'] +roles[100:200].index.tolist() :\n",
    "#     print x\n",
    "#     for name, reg in regexes:\n",
    "#         if reg.search(x):\n",
    "#             print \"\\t\", name\n"
   ]
  },
  {
   "cell_type": "code",
   "execution_count": 66,
   "metadata": {
    "collapsed": true
   },
   "outputs": [],
   "source": [
    "matches = defaultdict(list)\n",
    "captured = 0\n",
    "total = 0\n",
    "for i, x in roles.reset_index().iterrows():\n",
    "    matched = \"\"\n",
    "    for name, reg in regexes:\n",
    "        if reg.search(x[0]):\n",
    "            matched = name\n",
    "    if matched != \"\":\n",
    "        captured += x[1]\n",
    "    total += x[1]\n",
    "    matches[matched].append(x[0])"
   ]
  },
  {
   "cell_type": "code",
   "execution_count": 67,
   "metadata": {},
   "outputs": [
    {
     "name": "stdout",
     "output_type": "stream",
     "text": [
      "4756244 6770376\n",
      "Percentage of non-null affiliations we can identify a role for:  0.7025081029473105\n"
     ]
    }
   ],
   "source": [
    "print(captured, total )\n",
    "print('Percentage of non-null affiliations we can identify a role for: ', float(captured)/total)"
   ]
  },
  {
   "cell_type": "code",
   "execution_count": 68,
   "metadata": {},
   "outputs": [
    {
     "name": "stdout",
     "output_type": "stream",
     "text": [
      "625590 1344173\n",
      "Percent of all unique role fields we can identify:  0.4654088424629865\n"
     ]
    }
   ],
   "source": [
    "print(len(matches['']), len(roles))\n",
    "print('Percent of all unique role fields we can identify: ', len(matches[''])/float(len(roles)))"
   ]
  },
  {
   "cell_type": "code",
   "execution_count": 69,
   "metadata": {
    "collapsed": true
   },
   "outputs": [],
   "source": [
    "role_df=pd.DataFrame([x for k,v in matches.items() for x in zip(v,[k]*len(v))],\n",
    "                     columns=['clean_role','role_category'])"
   ]
  },
  {
   "cell_type": "code",
   "execution_count": 70,
   "metadata": {
    "collapsed": true
   },
   "outputs": [],
   "source": [
    "df = df.merge(role_df,on=\"clean_role\",how = \"left\")"
   ]
  },
  {
   "cell_type": "markdown",
   "metadata": {},
   "source": [
    "## Check out role details"
   ]
  },
  {
   "cell_type": "code",
   "execution_count": 71,
   "metadata": {},
   "outputs": [
    {
     "name": "stdout",
     "output_type": "stream",
     "text": [
      "2970630 0.3844543084305503\n"
     ]
    },
    {
     "data": {
      "text/plain": [
       "                    2014132\n",
       "phd                 1272007\n",
       "prof                1190897\n",
       "masters/postgrad     803589\n",
       "bachelors            592812\n",
       "research             484244\n",
       "postdoc              253086\n",
       "head                 159609\n",
       "Name: role_category, dtype: int64"
      ]
     },
     "execution_count": 71,
     "metadata": {},
     "output_type": "execute_result"
    }
   ],
   "source": [
    "missing = df[pd.isnull(df.role_category)].shape[0]+df[df.role_category == \"\"].shape[0]\n",
    "print(missing, float(missing)/len(df))\n",
    "df.role_category.value_counts()"
   ]
  },
  {
   "cell_type": "code",
   "execution_count": 72,
   "metadata": {},
   "outputs": [
    {
     "name": "stdout",
     "output_type": "stream",
     "text": [
      "How many people have at least 1 category? \n",
      "2152229\n"
     ]
    }
   ],
   "source": [
    "print('How many people have at least 1 category? ',)\n",
    "print(df[~((pd.isnull(df.role_category)) | (df.role_category == \"\"))].oid.nunique())"
   ]
  },
  {
   "cell_type": "code",
   "execution_count": 73,
   "metadata": {},
   "outputs": [
    {
     "name": "stdout",
     "output_type": "stream",
     "text": [
      "education     3952556\n",
      "employment    3774318\n",
      "Name: emp_or_edu, dtype: int64\n"
     ]
    },
    {
     "data": {
      "text/plain": [
       "phd student                                 44336\n",
       "dr                                          13551\n",
       "phd                                         12799\n",
       "phd candidate                               12748\n",
       "graduate research assistant                  8319\n",
       "                                            ...  \n",
       "bolseira de investigação - mestre               1\n",
       "ph d student and assistant                      1\n",
       "phd by published work co-supervision            1\n",
       "ph d of economic sciences                       1\n",
       "teaching and research graduate assistant        1\n",
       "Name: clean_role, Length: 14517, dtype: int64"
      ]
     },
     "execution_count": 73,
     "metadata": {},
     "output_type": "execute_result"
    }
   ],
   "source": [
    "# the type field isn't named well, rename\n",
    "df.rename(index=str, columns={\"type\" : \"emp_or_edu\"}, inplace=True)\n",
    "\n",
    "print(df.emp_or_edu.value_counts())\n",
    "\n",
    "# BUT! If the type is \"employment\", then we shouldn't be assigning anything but prof, head, research or postdoc?\n",
    "# Actually these look fine, lets leave it\n",
    "df.loc[(df.emp_or_edu == \"employment\") & (df.role_category.isin([\"phd\"]))].clean_role.value_counts()"
   ]
  },
  {
   "cell_type": "markdown",
   "metadata": {},
   "source": [
    "# Translation of Department fields"
   ]
  },
  {
   "cell_type": "markdown",
   "metadata": {},
   "source": [
    "## If you haven't done the translation yet you have to run all of this"
   ]
  },
  {
   "cell_type": "code",
   "execution_count": 74,
   "metadata": {
    "collapsed": true
   },
   "outputs": [],
   "source": [
    "import os\n",
    "if os.path.exists(\"../../data/processed/translated_fieldnames_2020.csv\"):\n",
    "    print('SKIP THIS SECTION YOU HAVE THE TRANSLATED DATA GO TO THE SECTION STARTING WITH \"Otherwise\"...')"
   ]
  },
  {
   "cell_type": "code",
   "execution_count": 168,
   "metadata": {
    "collapsed": true
   },
   "outputs": [],
   "source": [
    "#NSF Fields\n",
    "\n",
    "tab = requests.get(\"https://www.nsf.gov/statistics/2017/nsf17306/datatables/tab-13.htm\")\n",
    "s = BeautifulSoup(tab.text)\n",
    "tab = s.find(\"table\",{\"id\" : \"data-table\"})\n",
    "\n",
    "def get_text_indent(row):\n",
    "    text = row.text.replace(\", general\",\"\").replace(\", other\",\"\").lower().strip()\n",
    "    indent = int(row['class'][0].replace(\"indent_\",\"\"))\n",
    "    return text, indent\n",
    "\n",
    "nsf_field_hierarchy = defaultdict(list)\n",
    "nsf_terms = set()\n",
    "rows = tab.find_all(\"th\", {\"scope\" : \"row\"})\n",
    "\n",
    "# stupid but it works\n",
    "i = 1\n",
    "while i < len(rows):\n",
    "    # get my info\n",
    "    curr_text, curr_indent  = get_text_indent(rows[i])\n",
    "    # make sure this isn't already in the tree\n",
    "    if curr_text not in nsf_terms:\n",
    "        nsf_terms.add(curr_text)\n",
    "        for j in reversed(range(i)):\n",
    "            prev_text, prev_indent = get_text_indent(rows[j])\n",
    "            if curr_indent - prev_indent == 1:\n",
    "                nsf_field_hierarchy[prev_text].append(curr_text)\n",
    "                break\n",
    "    #else:\n",
    "        #print rows[i].text, curr_text, ' already in tree'\n",
    "    i += 1\n",
    "\n",
    "nsf_termlist = Counter()\n",
    "for x in nsf_terms:\n",
    "    nsf_termlist.update([x for x in get_terms(x) if x not in STOPWORDS])\n",
    "nsf_termlist = set(nsf_termlist.keys())"
   ]
  },
  {
   "cell_type": "code",
   "execution_count": 170,
   "metadata": {
    "collapsed": true
   },
   "outputs": [],
   "source": [
    "# Wikipedia Fields\n",
    "#https://en.wikipedia.org/wiki/Outline_of_academic_disciplines\n",
    "def get_text_indent_wiki(row):\n",
    "    indent = -1\n",
    "    if row.startswith(\"===\"):\n",
    "        indent = 1\n",
    "    elif row.startswith(\"==\"):\n",
    "        indent = 0\n",
    "    elif row.startswith(\"'''\"):\n",
    "        indent = 2\n",
    "    elif row.startswith(\"***\"):\n",
    "        indent = 5\n",
    "    elif row.startswith(\"**\"):\n",
    "        indent = 4\n",
    "    elif row.startswith(\"*\"):\n",
    "        indent = 3\n",
    "    else:\n",
    "        pass\n",
    "        #print \"NOPE\", row\n",
    "    text = row.replace(\"*\",\"\").replace(\"=\",\"\").lower().strip()\n",
    "    \n",
    "    text = text.replace(\"'''\",\"\")\n",
    "\n",
    "    text = re.sub(\"(#|\\|)[a-z A-Z\\(\\)]+\\]\\]\",\"\",text)\n",
    "    text = text.replace(\"[[\",\"\").replace(\"]]\",\"\").strip()\n",
    "    if text.rfind(\"(outline\") != -1:\n",
    "        text = text[:text.rfind(\"(outline\")]\n",
    "    return text.strip(), indent\n",
    "\n",
    "wiki_field_hierarchy = defaultdict(list)\n",
    "rows = [get_text_indent_wiki(x) for x in open(\"wiki_page.txt\").readlines()]\n",
    "rows = [x for x in rows if x[1] != -1]\n",
    "wiki_terms = set()\n",
    "\n",
    "# stupid but it works\n",
    "i = 1\n",
    "while i < len(rows):\n",
    "    # get my info\n",
    "    curr_text, curr_indent  = rows[i]\n",
    "    # make sure this isn't already in the tree\n",
    "    if curr_text not in wiki_terms:\n",
    "        wiki_terms.add(curr_text)\n",
    "        for j in reversed(range(i)):\n",
    "            prev_text, prev_indent = rows[j]\n",
    "            if curr_indent - prev_indent > 0:\n",
    "                wiki_field_hierarchy[prev_text].append(curr_text)\n",
    "                break\n",
    "    i += 1\n",
    "    \n",
    "wiki_termlist = Counter()\n",
    "for x in wiki_terms:\n",
    "    wiki_termlist.update([x for x in get_terms(x) if x not in STOPWORDS])\n",
    "wiki_termlist = set(wiki_termlist.keys())\n",
    "\n",
    "\n",
    "for term in wiki_terms:\n",
    "    if term not in wiki_field_hierarchy:\n",
    "        wiki_field_hierarchy[term] = []\n",
    "        \n",
    "        \n",
    "# Archaeology is a social science discipline - https://en.wikipedia.org/wiki/Archaeology\n",
    "# So is communications\n",
    "wiki_field_hierarchy['social sciences'].append(\"archaelogy\")\n",
    "wiki_terms.add(\"archaeology\")\n",
    "wiki_field_hierarchy['social sciences'].append(\"communications\")\n",
    "wiki_terms.add(\"communications\")\n",
    "\n",
    "# if Music history is a subset of Music, art history should be a subset of art\n",
    "wiki_field_hierarchy[\"visual arts\"].append(\"art history\")\n",
    "wiki_terms.add(\"art history\")\n",
    "\n",
    "# Classics == classical literature\n",
    "wiki_field_hierarchy[\"history of literature\"].append(\"classics\")\n",
    "wiki_field_hierarchy[\"history of literature\"].append(\"classical literature\")\n",
    "wiki_terms.add(\"classics\")\n",
    "wiki_terms.add(\"classical literature\")\n",
    "\n",
    "# If English lit is under language and arts, so is spanish\n",
    "wiki_field_hierarchy[\"languages and literature\"].append(\"spanish literature\")\n",
    "wiki_terms.add(\"spanish literature\") \n"
   ]
  },
  {
   "cell_type": "code",
   "execution_count": 171,
   "metadata": {
    "collapsed": true
   },
   "outputs": [],
   "source": [
    "# Bring back in cleaned version and count number of terms in each individual's department\n",
    "manual_termlist = {x.split(\"\\t\")[0] for x in io.open(\"manual_keywords.tsv\")}"
   ]
  },
  {
   "cell_type": "code",
   "execution_count": 172,
   "metadata": {},
   "outputs": [
    {
     "name": "stdout",
     "output_type": "stream",
     "text": [
      "1157104\n"
     ]
    }
   ],
   "source": [
    "# Write out the fields that we need to translate to English\n",
    "non_eng_affl = df[~df.org_country.isin([\"US\",\"UK\", \"GB\", \"IE\"])].dept.unique()\n",
    "print(len(non_eng_affl))\n"
   ]
  },
  {
   "cell_type": "code",
   "execution_count": null,
   "metadata": {
    "scrolled": true
   },
   "outputs": [
    {
     "name": "stdout",
     "output_type": "stream",
     "text": [
      "0\n",
      "30000\n",
      "60000\n",
      "90000\n",
      "120000\n",
      "150000\n",
      "180000\n",
      "210000\n",
      "240000\n",
      "270000\n",
      "300000\n",
      "330000\n",
      "360000\n",
      "390000\n",
      "420000\n",
      "450000\n",
      "480000\n",
      "510000\n",
      "540000\n",
      "570000\n",
      "600000\n"
     ]
    }
   ],
   "source": [
    "to_translate = set()\n",
    "for i,x in enumerate(non_eng_affl):\n",
    "    if i % 30000 == 0:\n",
    "        print(i)\n",
    "    if x:\n",
    "        terms = get_terms(x)\n",
    "        if (len(terms & nsf_termlist) or \n",
    "            len(terms & wiki_termlist) or \n",
    "            len(terms & manual_termlist) or \n",
    "            langid.classify(x)[0] == 'en'):\n",
    "                continue\n",
    "        to_translate.add(x.lower())"
   ]
  },
  {
   "cell_type": "code",
   "execution_count": 174,
   "metadata": {},
   "outputs": [
    {
     "name": "stdout",
     "output_type": "stream",
     "text": [
      "224821 160156 73072\n"
     ]
    }
   ],
   "source": [
    "already_translated = pd.read_csv(\"../processed/translated_fieldnames_2020.csv\",encoding=\"utf8\")\n",
    "#already_translated.columns = ['from','to']\n",
    "print(len(set(to_translate)), len(set(already_translated['from'].values)), \n",
    "      len(set(to_translate) - set(already_translated['from'].values)))\n"
   ]
  },
  {
   "cell_type": "code",
   "execution_count": 192,
   "metadata": {},
   "outputs": [
    {
     "data": {
      "text/html": [
       "<div>\n",
       "<style scoped>\n",
       "    .dataframe tbody tr th:only-of-type {\n",
       "        vertical-align: middle;\n",
       "    }\n",
       "\n",
       "    .dataframe tbody tr th {\n",
       "        vertical-align: top;\n",
       "    }\n",
       "\n",
       "    .dataframe thead th {\n",
       "        text-align: right;\n",
       "    }\n",
       "</style>\n",
       "<table border=\"1\" class=\"dataframe\">\n",
       "  <thead>\n",
       "    <tr style=\"text-align: right;\">\n",
       "      <th></th>\n",
       "      <th>from_field</th>\n",
       "      <th>to_field</th>\n",
       "    </tr>\n",
       "  </thead>\n",
       "  <tbody>\n",
       "    <tr>\n",
       "      <th>0</th>\n",
       "      <td>sistema integrado de bibliotecas regionais</td>\n",
       "      <td>integrated regional libraries\\n</td>\n",
       "    </tr>\n",
       "    <tr>\n",
       "      <th>1</th>\n",
       "      <td>bidang kewirausahaan</td>\n",
       "      <td>entrepreneurship\\n</td>\n",
       "    </tr>\n",
       "    <tr>\n",
       "      <th>2</th>\n",
       "      <td>instituto de química; departamento de química ...</td>\n",
       "      <td>Chemistry Institute; of inorganic chemistry de...</td>\n",
       "    </tr>\n",
       "    <tr>\n",
       "      <th>3</th>\n",
       "      <td>mi̇mari̇ proje ve satiş</td>\n",
       "      <td>ARCHITECTURAL PROJECT and sale\\n</td>\n",
       "    </tr>\n",
       "    <tr>\n",
       "      <th>4</th>\n",
       "      <td>grupo de trastornos endocrinos</td>\n",
       "      <td>endocrine disorders group\\n</td>\n",
       "    </tr>\n",
       "  </tbody>\n",
       "</table>\n",
       "</div>"
      ],
      "text/plain": [
       "                                          from_field  \\\n",
       "0         sistema integrado de bibliotecas regionais   \n",
       "1                               bidang kewirausahaan   \n",
       "2  instituto de química; departamento de química ...   \n",
       "3                            mi̇mari̇ proje ve satiş   \n",
       "4                     grupo de trastornos endocrinos   \n",
       "\n",
       "                                            to_field  \n",
       "0                    integrated regional libraries\\n  \n",
       "1                                 entrepreneurship\\n  \n",
       "2  Chemistry Institute; of inorganic chemistry de...  \n",
       "3                   ARCHITECTURAL PROJECT and sale\\n  \n",
       "4                        endocrine disorders group\\n  "
      ]
     },
     "execution_count": 192,
     "metadata": {},
     "output_type": "execute_result"
    }
   ],
   "source": [
    "# trans = []\n",
    "# l = 0\n",
    "# with open(\"./translated_2020.tsv\") as inf:\n",
    "#     for i,line in enumerate(inf):\n",
    "#         s = line.split(\"\\t\")\n",
    "#         if len(s) > 2:\n",
    "#             l += 1\n",
    "#         else:\n",
    "#             trans.append(s)\n",
    "# trans = pd.DataFrame(trans)\n",
    "# trans.columns = ['from_field','to_field']\n",
    "# trans.head()"
   ]
  },
  {
   "cell_type": "code",
   "execution_count": 175,
   "metadata": {
    "collapsed": true
   },
   "outputs": [],
   "source": [
    "with open(\"./to_translate.csv\",\"w\") as of:\n",
    "    for x in set(to_translate) - set(already_translated['from'].values):\n",
    "         of.write(x + \"\\n\")"
   ]
  },
  {
   "cell_type": "markdown",
   "metadata": {},
   "source": [
    "# Otherwise, if you have the pre-translated data, just run this!"
   ]
  },
  {
   "cell_type": "code",
   "execution_count": 75,
   "metadata": {
    "collapsed": true
   },
   "outputs": [],
   "source": [
    "translated = pd.read_csv(\"../processed/translated_fieldnames_2020.csv\",encoding=\"utf8\",header=None)\n",
    "translated.columns = ['from_field','to_field']"
   ]
  },
  {
   "cell_type": "code",
   "execution_count": 76,
   "metadata": {
    "collapsed": true
   },
   "outputs": [],
   "source": [
    "translated.drop_duplicates(\"from_field\",inplace=True)\n",
    "translated.from_field = translated.from_field.str.lower()\n",
    "translated.to_field = translated.to_field.str.lower()\n"
   ]
  },
  {
   "cell_type": "code",
   "execution_count": 77,
   "metadata": {},
   "outputs": [
    {
     "data": {
      "text/plain": [
       "(7726874, 15)"
      ]
     },
     "execution_count": 77,
     "metadata": {},
     "output_type": "execute_result"
    }
   ],
   "source": [
    "df.dept = df.dept.str.lower()\n",
    "df = pd.merge(df, translated,left_on=\"dept\",right_on=\"from_field\",how=\"left\")\n",
    "df.dept = df.apply(lambda x : x['dept'] if pd.isnull(x['to_field']) else x['to_field'],axis=1)\n",
    "df.drop(['from_field','to_field'],axis=1,inplace=True)\n",
    "df.shape"
   ]
  },
  {
   "cell_type": "markdown",
   "metadata": {},
   "source": [
    "# Field Matching"
   ]
  },
  {
   "cell_type": "markdown",
   "metadata": {},
   "source": [
    "## Clean department names"
   ]
  },
  {
   "cell_type": "code",
   "execution_count": 78,
   "metadata": {},
   "outputs": [
    {
     "data": {
      "text/html": [
       "<div>\n",
       "<style scoped>\n",
       "    .dataframe tbody tr th:only-of-type {\n",
       "        vertical-align: middle;\n",
       "    }\n",
       "\n",
       "    .dataframe tbody tr th {\n",
       "        vertical-align: top;\n",
       "    }\n",
       "\n",
       "    .dataframe thead th {\n",
       "        text-align: right;\n",
       "    }\n",
       "</style>\n",
       "<table border=\"1\" class=\"dataframe\">\n",
       "  <thead>\n",
       "    <tr style=\"text-align: right;\">\n",
       "      <th></th>\n",
       "      <th>org_name</th>\n",
       "      <th>org_country</th>\n",
       "      <th>start_month</th>\n",
       "      <th>start_year</th>\n",
       "      <th>role</th>\n",
       "      <th>dept</th>\n",
       "      <th>emp_or_edu</th>\n",
       "      <th>disamb_org</th>\n",
       "      <th>oid</th>\n",
       "      <th>person_created_prof_date</th>\n",
       "      <th>person_last_mod_date</th>\n",
       "      <th>person_first_name</th>\n",
       "      <th>person_last_name</th>\n",
       "      <th>clean_role</th>\n",
       "      <th>role_category</th>\n",
       "    </tr>\n",
       "  </thead>\n",
       "  <tbody>\n",
       "    <tr>\n",
       "      <th>0</th>\n",
       "      <td>Niagara College</td>\n",
       "      <td>CA</td>\n",
       "      <td>09</td>\n",
       "      <td>1976</td>\n",
       "      <td>Library Technician Diploma</td>\n",
       "      <td>None</td>\n",
       "      <td>education</td>\n",
       "      <td>125147 RINGGOLD</td>\n",
       "      <td>0000-0001-5109-1000</td>\n",
       "      <td>2019-05-01T13:04:57.507Z</td>\n",
       "      <td>2019-05-01T13:45:47.727Z</td>\n",
       "      <td>Andrew</td>\n",
       "      <td>Porteus</td>\n",
       "      <td>library technician diploma</td>\n",
       "      <td></td>\n",
       "    </tr>\n",
       "    <tr>\n",
       "      <th>1</th>\n",
       "      <td>PCSIR Labs. Complex, Ferozepur Road</td>\n",
       "      <td>PK</td>\n",
       "      <td>03</td>\n",
       "      <td>2001</td>\n",
       "      <td>Scientific Officer</td>\n",
       "      <td>applied chemistry research centre</td>\n",
       "      <td>employment</td>\n",
       "      <td>None</td>\n",
       "      <td>0000-0001-5042-7000</td>\n",
       "      <td>2016-04-15T20:46:17.804Z</td>\n",
       "      <td>2016-04-15T20:46:17.804Z</td>\n",
       "      <td>Muhammad Usman</td>\n",
       "      <td>Sabri</td>\n",
       "      <td>scientific officer</td>\n",
       "      <td></td>\n",
       "    </tr>\n",
       "    <tr>\n",
       "      <th>2</th>\n",
       "      <td>University of the Punjab</td>\n",
       "      <td>PK</td>\n",
       "      <td>None</td>\n",
       "      <td>2001</td>\n",
       "      <td>Master</td>\n",
       "      <td>chemistry</td>\n",
       "      <td>education</td>\n",
       "      <td>66906 RINGGOLD</td>\n",
       "      <td>0000-0001-5042-7000</td>\n",
       "      <td>2016-04-15T20:46:17.804Z</td>\n",
       "      <td>2016-04-15T20:46:17.804Z</td>\n",
       "      <td>Muhammad Usman</td>\n",
       "      <td>Sabri</td>\n",
       "      <td>master</td>\n",
       "      <td>masters/postgrad</td>\n",
       "    </tr>\n",
       "    <tr>\n",
       "      <th>3</th>\n",
       "      <td>University College London Hospitals NHS Founda...</td>\n",
       "      <td>GB</td>\n",
       "      <td>07</td>\n",
       "      <td>2014</td>\n",
       "      <td>Consultant Neuroradiologist</td>\n",
       "      <td>lysholm department of neuroradiology</td>\n",
       "      <td>employment</td>\n",
       "      <td>98546 RINGGOLD</td>\n",
       "      <td>0000-0001-5136-6000</td>\n",
       "      <td>2018-02-07T09:59:17.219Z</td>\n",
       "      <td>2018-02-07T09:59:17.444Z</td>\n",
       "      <td>Steffi</td>\n",
       "      <td>Thust</td>\n",
       "      <td>consultant neuroradiologist</td>\n",
       "      <td></td>\n",
       "    </tr>\n",
       "    <tr>\n",
       "      <th>4</th>\n",
       "      <td>University of Al-Ameed</td>\n",
       "      <td>IQ</td>\n",
       "      <td>None</td>\n",
       "      <td>None</td>\n",
       "      <td>Dr.</td>\n",
       "      <td>pharmacology</td>\n",
       "      <td>employment</td>\n",
       "      <td>None</td>\n",
       "      <td>0000-0001-5002-1000</td>\n",
       "      <td>2019-03-19T10:17:07.129Z</td>\n",
       "      <td>2019-03-19T10:17:07.366Z</td>\n",
       "      <td>Sameer</td>\n",
       "      <td>Abbood</td>\n",
       "      <td>dr</td>\n",
       "      <td>phd</td>\n",
       "    </tr>\n",
       "    <tr>\n",
       "      <th>...</th>\n",
       "      <td>...</td>\n",
       "      <td>...</td>\n",
       "      <td>...</td>\n",
       "      <td>...</td>\n",
       "      <td>...</td>\n",
       "      <td>...</td>\n",
       "      <td>...</td>\n",
       "      <td>...</td>\n",
       "      <td>...</td>\n",
       "      <td>...</td>\n",
       "      <td>...</td>\n",
       "      <td>...</td>\n",
       "      <td>...</td>\n",
       "      <td>...</td>\n",
       "      <td>...</td>\n",
       "    </tr>\n",
       "    <tr>\n",
       "      <th>7726869</th>\n",
       "      <td>Macquarie University</td>\n",
       "      <td>AU</td>\n",
       "      <td>None</td>\n",
       "      <td>None</td>\n",
       "      <td>None</td>\n",
       "      <td>None</td>\n",
       "      <td>employment</td>\n",
       "      <td>7788 RINGGOLD</td>\n",
       "      <td>0000-0003-4957-3961</td>\n",
       "      <td>2016-09-08T00:54:38.504Z</td>\n",
       "      <td>2020-05-14T21:23:32.385Z</td>\n",
       "      <td>Jonathan</td>\n",
       "      <td>Williamson</td>\n",
       "      <td>None</td>\n",
       "      <td>NaN</td>\n",
       "    </tr>\n",
       "    <tr>\n",
       "      <th>7726870</th>\n",
       "      <td>Macquarie University Hospital</td>\n",
       "      <td>AU</td>\n",
       "      <td>01</td>\n",
       "      <td>2012</td>\n",
       "      <td>Visiting Medical Officer</td>\n",
       "      <td>macquarie respiratory and sleep</td>\n",
       "      <td>employment</td>\n",
       "      <td>150782 RINGGOLD</td>\n",
       "      <td>0000-0003-4957-3961</td>\n",
       "      <td>2016-09-08T00:54:38.504Z</td>\n",
       "      <td>2020-05-14T21:23:32.385Z</td>\n",
       "      <td>Jonathan</td>\n",
       "      <td>Williamson</td>\n",
       "      <td>visiting medical officer</td>\n",
       "      <td></td>\n",
       "    </tr>\n",
       "    <tr>\n",
       "      <th>7726871</th>\n",
       "      <td>South Western Sydney Local Health District</td>\n",
       "      <td>AU</td>\n",
       "      <td>02</td>\n",
       "      <td>2010</td>\n",
       "      <td>Staff Specialist</td>\n",
       "      <td>respiratory and sleep medicine</td>\n",
       "      <td>employment</td>\n",
       "      <td>1511 RINGGOLD</td>\n",
       "      <td>0000-0003-4957-3961</td>\n",
       "      <td>2016-09-08T00:54:38.504Z</td>\n",
       "      <td>2020-05-14T21:23:32.385Z</td>\n",
       "      <td>Jonathan</td>\n",
       "      <td>Williamson</td>\n",
       "      <td>staff specialist</td>\n",
       "      <td></td>\n",
       "    </tr>\n",
       "    <tr>\n",
       "      <th>7726872</th>\n",
       "      <td>University of Western Australia</td>\n",
       "      <td>AU</td>\n",
       "      <td>02</td>\n",
       "      <td>2007</td>\n",
       "      <td>Phd</td>\n",
       "      <td>anatomy and biological sciences</td>\n",
       "      <td>education</td>\n",
       "      <td>2720 RINGGOLD</td>\n",
       "      <td>0000-0003-4957-3961</td>\n",
       "      <td>2016-09-08T00:54:38.504Z</td>\n",
       "      <td>2020-05-14T21:23:32.385Z</td>\n",
       "      <td>Jonathan</td>\n",
       "      <td>Williamson</td>\n",
       "      <td>phd</td>\n",
       "      <td>phd</td>\n",
       "    </tr>\n",
       "    <tr>\n",
       "      <th>7726873</th>\n",
       "      <td>University of New South Wales</td>\n",
       "      <td>AU</td>\n",
       "      <td>01</td>\n",
       "      <td>1993</td>\n",
       "      <td>MBBS (Hons I) Bsc (Med)</td>\n",
       "      <td>faculty of medicine</td>\n",
       "      <td>education</td>\n",
       "      <td>7800 RINGGOLD</td>\n",
       "      <td>0000-0003-4957-3961</td>\n",
       "      <td>2016-09-08T00:54:38.504Z</td>\n",
       "      <td>2020-05-14T21:23:32.385Z</td>\n",
       "      <td>Jonathan</td>\n",
       "      <td>Williamson</td>\n",
       "      <td>mbbs (hons i) bsc (med)</td>\n",
       "      <td>masters/postgrad</td>\n",
       "    </tr>\n",
       "  </tbody>\n",
       "</table>\n",
       "<p>7726874 rows × 15 columns</p>\n",
       "</div>"
      ],
      "text/plain": [
       "                                                  org_name org_country  \\\n",
       "0                                          Niagara College          CA   \n",
       "1                      PCSIR Labs. Complex, Ferozepur Road          PK   \n",
       "2                                 University of the Punjab          PK   \n",
       "3        University College London Hospitals NHS Founda...          GB   \n",
       "4                                   University of Al-Ameed          IQ   \n",
       "...                                                    ...         ...   \n",
       "7726869                               Macquarie University          AU   \n",
       "7726870                      Macquarie University Hospital          AU   \n",
       "7726871         South Western Sydney Local Health District          AU   \n",
       "7726872                    University of Western Australia          AU   \n",
       "7726873                      University of New South Wales          AU   \n",
       "\n",
       "        start_month start_year                         role  \\\n",
       "0                09       1976   Library Technician Diploma   \n",
       "1                03       2001           Scientific Officer   \n",
       "2              None       2001                       Master   \n",
       "3                07       2014  Consultant Neuroradiologist   \n",
       "4              None       None                          Dr.   \n",
       "...             ...        ...                          ...   \n",
       "7726869        None       None                         None   \n",
       "7726870          01       2012     Visiting Medical Officer   \n",
       "7726871          02       2010             Staff Specialist   \n",
       "7726872          02       2007                          Phd   \n",
       "7726873          01       1993      MBBS (Hons I) Bsc (Med)   \n",
       "\n",
       "                                         dept  emp_or_edu       disamb_org  \\\n",
       "0                                        None   education  125147 RINGGOLD   \n",
       "1           applied chemistry research centre  employment             None   \n",
       "2                                   chemistry   education   66906 RINGGOLD   \n",
       "3        lysholm department of neuroradiology  employment   98546 RINGGOLD   \n",
       "4                                pharmacology  employment             None   \n",
       "...                                       ...         ...              ...   \n",
       "7726869                                  None  employment    7788 RINGGOLD   \n",
       "7726870       macquarie respiratory and sleep  employment  150782 RINGGOLD   \n",
       "7726871        respiratory and sleep medicine  employment    1511 RINGGOLD   \n",
       "7726872       anatomy and biological sciences   education    2720 RINGGOLD   \n",
       "7726873                   faculty of medicine   education    7800 RINGGOLD   \n",
       "\n",
       "                         oid  person_created_prof_date  \\\n",
       "0        0000-0001-5109-1000  2019-05-01T13:04:57.507Z   \n",
       "1        0000-0001-5042-7000  2016-04-15T20:46:17.804Z   \n",
       "2        0000-0001-5042-7000  2016-04-15T20:46:17.804Z   \n",
       "3        0000-0001-5136-6000  2018-02-07T09:59:17.219Z   \n",
       "4        0000-0001-5002-1000  2019-03-19T10:17:07.129Z   \n",
       "...                      ...                       ...   \n",
       "7726869  0000-0003-4957-3961  2016-09-08T00:54:38.504Z   \n",
       "7726870  0000-0003-4957-3961  2016-09-08T00:54:38.504Z   \n",
       "7726871  0000-0003-4957-3961  2016-09-08T00:54:38.504Z   \n",
       "7726872  0000-0003-4957-3961  2016-09-08T00:54:38.504Z   \n",
       "7726873  0000-0003-4957-3961  2016-09-08T00:54:38.504Z   \n",
       "\n",
       "             person_last_mod_date person_first_name person_last_name  \\\n",
       "0        2019-05-01T13:45:47.727Z            Andrew          Porteus   \n",
       "1        2016-04-15T20:46:17.804Z    Muhammad Usman            Sabri   \n",
       "2        2016-04-15T20:46:17.804Z    Muhammad Usman            Sabri   \n",
       "3        2018-02-07T09:59:17.444Z            Steffi            Thust   \n",
       "4        2019-03-19T10:17:07.366Z            Sameer           Abbood   \n",
       "...                           ...               ...              ...   \n",
       "7726869  2020-05-14T21:23:32.385Z          Jonathan       Williamson   \n",
       "7726870  2020-05-14T21:23:32.385Z          Jonathan       Williamson   \n",
       "7726871  2020-05-14T21:23:32.385Z          Jonathan       Williamson   \n",
       "7726872  2020-05-14T21:23:32.385Z          Jonathan       Williamson   \n",
       "7726873  2020-05-14T21:23:32.385Z          Jonathan       Williamson   \n",
       "\n",
       "                          clean_role     role_category  \n",
       "0         library technician diploma                    \n",
       "1                 scientific officer                    \n",
       "2                             master  masters/postgrad  \n",
       "3        consultant neuroradiologist                    \n",
       "4                                 dr               phd  \n",
       "...                              ...               ...  \n",
       "7726869                         None               NaN  \n",
       "7726870     visiting medical officer                    \n",
       "7726871             staff specialist                    \n",
       "7726872                          phd               phd  \n",
       "7726873      mbbs (hons i) bsc (med)  masters/postgrad  \n",
       "\n",
       "[7726874 rows x 15 columns]"
      ]
     },
     "execution_count": 78,
     "metadata": {},
     "output_type": "execute_result"
    }
   ],
   "source": [
    "df[~pd.isnull(df.org_name)]"
   ]
  },
  {
   "cell_type": "code",
   "execution_count": 79,
   "metadata": {
    "collapsed": true
   },
   "outputs": [],
   "source": [
    "df = df.assign(clean_dept = df.dept.apply(field_matching.clean_fieldnames))"
   ]
  },
  {
   "cell_type": "markdown",
   "metadata": {},
   "source": [
    "## Perform matching"
   ]
  },
  {
   "cell_type": "code",
   "execution_count": 80,
   "metadata": {
    "collapsed": true
   },
   "outputs": [],
   "source": [
    "all_fields = df.clean_dept.value_counts()\n",
    "fields_cum = (all_fields/float(all_fields.sum())).cumsum()"
   ]
  },
  {
   "cell_type": "code",
   "execution_count": 81,
   "metadata": {},
   "outputs": [
    {
     "data": {
      "text/plain": [
       "chemistry                 0.022949\n",
       "physics                   0.041432\n",
       "psychology                0.054787\n",
       "mechanical engineering    0.066243\n",
       "medicine                  0.077611\n",
       "biology                   0.088313\n",
       "mathematics               0.098421\n",
       "education                 0.107444\n",
       "computer science          0.115709\n",
       "economics                 0.122769\n",
       "civil engineering         0.129751\n",
       "chemical engineering      0.135935\n",
       "electrical engineering    0.142003\n",
       "engineering               0.147095\n",
       "biochemistry              0.151734\n",
       "biological sciences       0.156107\n",
       "nursing                   0.160462\n",
       "history                   0.164741\n",
       "pharmacy                  0.169002\n",
       "law                       0.173107\n",
       "Name: clean_dept, dtype: float64"
      ]
     },
     "execution_count": 81,
     "metadata": {},
     "output_type": "execute_result"
    }
   ],
   "source": [
    "fields_cum[:20]"
   ]
  },
  {
   "cell_type": "code",
   "execution_count": 82,
   "metadata": {},
   "outputs": [
    {
     "data": {
      "text/plain": [
       "computing & informatics                            0.664681\n",
       "pulmonary & critical care medicine                 0.664687\n",
       "neuropsicología                                    0.664694\n",
       "global ecology                                     0.664700\n",
       "biochemistry, molecular biology, and biophysics    0.664707\n",
       "history and english                                0.664713\n",
       "computer science & information systems             0.664720\n",
       "dept. of physiology anatomy and genetics           0.664727\n",
       "department structures                              0.664733\n",
       "european ethnology                                 0.664740\n",
       "Name: clean_dept, dtype: float64"
      ]
     },
     "execution_count": 82,
     "metadata": {},
     "output_type": "execute_result"
    }
   ],
   "source": [
    "fields_cum[10000:10010]"
   ]
  },
  {
   "cell_type": "code",
   "execution_count": 83,
   "metadata": {},
   "outputs": [
    {
     "data": {
      "text/plain": [
       "(0.6195544496270875, 1029974)"
      ]
     },
     "execution_count": 83,
     "metadata": {},
     "output_type": "execute_result"
    }
   ],
   "source": [
    "fields_cum[5000], len(fields_cum)"
   ]
  },
  {
   "cell_type": "code",
   "execution_count": 84,
   "metadata": {},
   "outputs": [
    {
     "data": {
      "text/plain": [
       "(([('blacklist', 'soil science', 'soil sciences', 'editdist')], ''),\n",
       " ([('engineering', 'engineering', 'engineering', 'full_substring')], ' naval'))"
      ]
     },
     "execution_count": 84,
     "metadata": {},
     "output_type": "execute_result"
    }
   ],
   "source": [
    "field_matching.perform_labeling(\"soil science\"), field_matching.perform_labeling(\"naval engineering \")"
   ]
  },
  {
   "cell_type": "code",
   "execution_count": 85,
   "metadata": {
    "collapsed": true
   },
   "outputs": [],
   "source": [
    "black_root_re = re.compile(r\"(\"+r\"|\".join([x.strip() for x in open(\"./black-list-roots.txt\")])+r\")[a-z]+($|\\b)\")"
   ]
  },
  {
   "cell_type": "code",
   "execution_count": 86,
   "metadata": {},
   "outputs": [
    {
     "data": {
      "text/plain": [
       "'soil science'"
      ]
     },
     "execution_count": 86,
     "metadata": {},
     "output_type": "execute_result"
    }
   ],
   "source": [
    "field_matching.clean_fieldnames('soil science')"
   ]
  },
  {
   "cell_type": "code",
   "execution_count": null,
   "metadata": {},
   "outputs": [
    {
     "name": "stderr",
     "output_type": "stream",
     "text": [
      "56it [00:00, 544.24it/s]"
     ]
    },
    {
     "name": "stdout",
     "output_type": "stream",
     "text": [
      "0 0\n"
     ]
    },
    {
     "name": "stderr",
     "output_type": "stream",
     "text": [
      "100023it [13:54, 125.57it/s]"
     ]
    },
    {
     "name": "stdout",
     "output_type": "stream",
     "text": [
      "100000 0\n"
     ]
    },
    {
     "name": "stderr",
     "output_type": "stream",
     "text": [
      "200013it [30:21, 90.69it/s] "
     ]
    },
    {
     "name": "stdout",
     "output_type": "stream",
     "text": [
      "200000 0\n"
     ]
    },
    {
     "name": "stderr",
     "output_type": "stream",
     "text": [
      "209690it [31:58, 92.99it/s] "
     ]
    }
   ],
   "source": [
    "errored = []\n",
    "errors = 0\n",
    "matches = []\n",
    "remains = []\n",
    "for v, f in tqdm(enumerate(all_fields.items())):\n",
    "    #print(v,f)\n",
    "    if v % 100000 == 0:\n",
    "        print(v, errors)\n",
    "\n",
    "    field, count = f\n",
    "    field = field.replace(\"\\t\",\" \").replace(\"\\n\", \" \")\n",
    "    try:\n",
    "        labels, remaining_string = field_matching.perform_labeling(field)\n",
    "\n",
    "        for label in labels:\n",
    "            matches.append((field ,v) + label)\n",
    "\n",
    "        if black_root_re.search(field):\n",
    "            matches.append((field ,v, \"\",\"\",\"\",\"blacklist\"))\n",
    "        elif not len(labels):\n",
    "            matches.append((field ,v, \"\",\"\",\"\",\"no_match\"))\n",
    "\n",
    "        remains.append((field,str(v),remaining_string, str(count)))\n",
    "    except UnicodeEncodeError:\n",
    "        errors += 1\n",
    "    except KeyboardInterrupt:\n",
    "        break\n",
    "    except:\n",
    "        errored.append(field)"
   ]
  },
  {
   "cell_type": "code",
   "execution_count": null,
   "metadata": {
    "collapsed": true
   },
   "outputs": [],
   "source": [
    "field_matches = pd.DataFrame(matches,\n",
    "                             columns=['fieldname','index','matched_field','field_term','matched_text','matchtype'])"
   ]
  },
  {
   "cell_type": "code",
   "execution_count": null,
   "metadata": {
    "collapsed": true
   },
   "outputs": [],
   "source": [
    "field_matches = field_matches.rename(index=str, columns={\"index\":\"field_index\"})"
   ]
  },
  {
   "cell_type": "code",
   "execution_count": null,
   "metadata": {
    "collapsed": true
   },
   "outputs": [],
   "source": [
    "field_matches.to_csv(\"../../data/all_field_matches.csv\",index=False, encoding=\"utf8\")"
   ]
  },
  {
   "cell_type": "code",
   "execution_count": 93,
   "metadata": {},
   "outputs": [
    {
     "data": {
      "text/html": [
       "<div>\n",
       "<style scoped>\n",
       "    .dataframe tbody tr th:only-of-type {\n",
       "        vertical-align: middle;\n",
       "    }\n",
       "\n",
       "    .dataframe tbody tr th {\n",
       "        vertical-align: top;\n",
       "    }\n",
       "\n",
       "    .dataframe thead th {\n",
       "        text-align: right;\n",
       "    }\n",
       "</style>\n",
       "<table border=\"1\" class=\"dataframe\">\n",
       "  <thead>\n",
       "    <tr style=\"text-align: right;\">\n",
       "      <th></th>\n",
       "      <th>fieldname</th>\n",
       "      <th>field_index</th>\n",
       "      <th>matched_field</th>\n",
       "      <th>field_term</th>\n",
       "      <th>matched_text</th>\n",
       "      <th>matchtype</th>\n",
       "    </tr>\n",
       "  </thead>\n",
       "  <tbody>\n",
       "    <tr>\n",
       "      <th>0</th>\n",
       "      <td>chemistry</td>\n",
       "      <td>0</td>\n",
       "      <td>chemistry</td>\n",
       "      <td>chemistry</td>\n",
       "      <td>chemistry</td>\n",
       "      <td>exact_full</td>\n",
       "    </tr>\n",
       "    <tr>\n",
       "      <th>1</th>\n",
       "      <td>physics</td>\n",
       "      <td>1</td>\n",
       "      <td>physics</td>\n",
       "      <td>physics</td>\n",
       "      <td>physics</td>\n",
       "      <td>exact_full</td>\n",
       "    </tr>\n",
       "    <tr>\n",
       "      <th>2</th>\n",
       "      <td>psychology</td>\n",
       "      <td>2</td>\n",
       "      <td>psychology</td>\n",
       "      <td>psychology</td>\n",
       "      <td>psychology</td>\n",
       "      <td>exact_full</td>\n",
       "    </tr>\n",
       "    <tr>\n",
       "      <th>3</th>\n",
       "      <td>mechanical engineering</td>\n",
       "      <td>3</td>\n",
       "      <td>engineering</td>\n",
       "      <td>engineering</td>\n",
       "      <td>engineering</td>\n",
       "      <td>full_substring</td>\n",
       "    </tr>\n",
       "    <tr>\n",
       "      <th>4</th>\n",
       "      <td>medicine</td>\n",
       "      <td>4</td>\n",
       "      <td>blacklist</td>\n",
       "      <td>medicine</td>\n",
       "      <td>medicine</td>\n",
       "      <td>exact_full</td>\n",
       "    </tr>\n",
       "  </tbody>\n",
       "</table>\n",
       "</div>"
      ],
      "text/plain": [
       "                fieldname  field_index matched_field   field_term  \\\n",
       "0               chemistry            0     chemistry    chemistry   \n",
       "1                 physics            1       physics      physics   \n",
       "2              psychology            2    psychology   psychology   \n",
       "3  mechanical engineering            3   engineering  engineering   \n",
       "4                medicine            4     blacklist     medicine   \n",
       "\n",
       "  matched_text       matchtype  \n",
       "0    chemistry      exact_full  \n",
       "1      physics      exact_full  \n",
       "2   psychology      exact_full  \n",
       "3  engineering  full_substring  \n",
       "4     medicine      exact_full  "
      ]
     },
     "execution_count": 93,
     "metadata": {},
     "output_type": "execute_result"
    }
   ],
   "source": [
    "field_matches.head()"
   ]
  },
  {
   "cell_type": "code",
   "execution_count": 97,
   "metadata": {},
   "outputs": [
    {
     "data": {
      "text/plain": [
       "[('chemistry', '0', '', '136678'),\n",
       " ('physics', '1', '', '110080'),\n",
       " ('psychology', '2', '', '79540'),\n",
       " ('mechanical engineering', '3', ' mechanical', '68230'),\n",
       " ('medicine', '4', '', '67707')]"
      ]
     },
     "execution_count": 97,
     "metadata": {},
     "output_type": "execute_result"
    }
   ],
   "source": [
    "remains[:5]"
   ]
  },
  {
   "cell_type": "code",
   "execution_count": 99,
   "metadata": {},
   "outputs": [],
   "source": [
    "stats = pd.DataFrame(remains, columns=['fieldname','index','term','count'])\n",
    "stats.to_csv(\"../output/all_field_remains_and_counts.csv\",index=False, encoding=\"utf8\")"
   ]
  },
  {
   "cell_type": "code",
   "execution_count": 100,
   "metadata": {},
   "outputs": [
    {
     "data": {
      "text/plain": [
       "(7726874, 16)"
      ]
     },
     "execution_count": 100,
     "metadata": {},
     "output_type": "execute_result"
    }
   ],
   "source": [
    "df.shape"
   ]
  },
  {
   "cell_type": "markdown",
   "metadata": {},
   "source": [
    "# Combining matches with data"
   ]
  },
  {
   "cell_type": "code",
   "execution_count": 101,
   "metadata": {},
   "outputs": [
    {
     "data": {
      "text/plain": [
       "(7726874, 16)"
      ]
     },
     "execution_count": 101,
     "metadata": {},
     "output_type": "execute_result"
    }
   ],
   "source": [
    "df.shape"
   ]
  },
  {
   "cell_type": "code",
   "execution_count": 102,
   "metadata": {
    "collapsed": true
   },
   "outputs": [],
   "source": [
    "df = df.assign(row_index=range(df.shape[0]))"
   ]
  },
  {
   "cell_type": "code",
   "execution_count": 103,
   "metadata": {
    "collapsed": true
   },
   "outputs": [],
   "source": [
    "field_matched_df = pd.merge(df, field_matches,left_on=\"clean_dept\",right_on=\"fieldname\",how=\"left\")"
   ]
  },
  {
   "cell_type": "code",
   "execution_count": 104,
   "metadata": {},
   "outputs": [
    {
     "data": {
      "text/plain": [
       "(9101934, 23)"
      ]
     },
     "execution_count": 104,
     "metadata": {},
     "output_type": "execute_result"
    }
   ],
   "source": [
    "field_matched_df.shape"
   ]
  },
  {
   "cell_type": "code",
   "execution_count": 105,
   "metadata": {
    "collapsed": true
   },
   "outputs": [],
   "source": [
    "field_matched_df.to_csv(\"../processed/cleaned_all_affiliations.csv\",encoding=\"utf8\")"
   ]
  },
  {
   "cell_type": "code",
   "execution_count": 106,
   "metadata": {
    "collapsed": true
   },
   "outputs": [],
   "source": [
    "!gzip ../processed/cleaned_all_affiliations.csv"
   ]
  },
  {
   "cell_type": "code",
   "execution_count": null,
   "metadata": {
    "collapsed": true
   },
   "outputs": [],
   "source": []
  }
 ],
 "metadata": {
  "anaconda-cloud": {},
  "kernelspec": {
   "display_name": "Python [conda env:py38]",
   "language": "python",
   "name": "conda-env-py38-py"
  },
  "language_info": {
   "codemirror_mode": {
    "name": "ipython",
    "version": 3
   },
   "file_extension": ".py",
   "mimetype": "text/x-python",
   "name": "python",
   "nbconvert_exporter": "python",
   "pygments_lexer": "ipython3",
   "version": "3.8.4"
  }
 },
 "nbformat": 4,
 "nbformat_minor": 2
}
