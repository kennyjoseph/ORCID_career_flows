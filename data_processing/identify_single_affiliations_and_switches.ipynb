{
 "cells": [
  {
   "cell_type": "code",
   "execution_count": 1,
   "metadata": {},
   "outputs": [],
   "source": [
    "import numpy as np\n",
    "import multiprocessing\n",
    "\n",
    "\n",
    "import pandas as pd\n",
    "import seaborn as sns\n",
    "import matplotlib\n",
    "import matplotlib.pyplot as plt\n",
    "sns.set_style(\"ticks\")\n",
    "pd.set_option('display.max_columns', 500)"
   ]
  },
  {
   "cell_type": "code",
   "execution_count": 2,
   "metadata": {},
   "outputs": [],
   "source": [
    "%matplotlib inline"
   ]
  },
  {
   "cell_type": "code",
   "execution_count": 3,
   "metadata": {},
   "outputs": [],
   "source": [
    "df = pd.read_csv(\"../../data/processed/cleaned_all_affiliations.csv.gz\")\n",
    "df.drop(\"Unnamed: 0\",axis=1,inplace=True)"
   ]
  },
  {
   "cell_type": "markdown",
   "metadata": {},
   "source": [
    "# Get the date of the affiliation and set the order of role affiliations"
   ]
  },
  {
   "cell_type": "code",
   "execution_count": 4,
   "metadata": {},
   "outputs": [
    {
     "data": {
      "text/html": [
       "<div>\n",
       "<style scoped>\n",
       "    .dataframe tbody tr th:only-of-type {\n",
       "        vertical-align: middle;\n",
       "    }\n",
       "\n",
       "    .dataframe tbody tr th {\n",
       "        vertical-align: top;\n",
       "    }\n",
       "\n",
       "    .dataframe thead th {\n",
       "        text-align: right;\n",
       "    }\n",
       "</style>\n",
       "<table border=\"1\" class=\"dataframe\">\n",
       "  <thead>\n",
       "    <tr style=\"text-align: right;\">\n",
       "      <th></th>\n",
       "      <th>dept</th>\n",
       "      <th>disamb_org</th>\n",
       "      <th>oid</th>\n",
       "      <th>org_country</th>\n",
       "      <th>org_name</th>\n",
       "      <th>role</th>\n",
       "      <th>start_month</th>\n",
       "      <th>start_year</th>\n",
       "      <th>emp_or_edu</th>\n",
       "      <th>person_created_prof_date</th>\n",
       "      <th>person_first_name</th>\n",
       "      <th>person_last_mod_date</th>\n",
       "      <th>person_last_name</th>\n",
       "      <th>clean_role</th>\n",
       "      <th>role_category</th>\n",
       "      <th>clean_dept</th>\n",
       "      <th>gender_prob</th>\n",
       "      <th>row_index</th>\n",
       "      <th>fieldname</th>\n",
       "      <th>field_index</th>\n",
       "      <th>matched_field</th>\n",
       "      <th>field_term</th>\n",
       "      <th>matched_text</th>\n",
       "      <th>matchtype</th>\n",
       "    </tr>\n",
       "  </thead>\n",
       "  <tbody>\n",
       "    <tr>\n",
       "      <th>0</th>\n",
       "      <td>NaN</td>\n",
       "      <td>12436 RINGGOLD</td>\n",
       "      <td>0000-0002-9666-480X</td>\n",
       "      <td>CN</td>\n",
       "      <td>NaN</td>\n",
       "      <td>NaN</td>\n",
       "      <td>7.0</td>\n",
       "      <td>2013.0</td>\n",
       "      <td>employment</td>\n",
       "      <td>2018-08-02T09:12:46.266Z</td>\n",
       "      <td>Rui</td>\n",
       "      <td>2018-08-02T09:12:46.499Z</td>\n",
       "      <td>Lu</td>\n",
       "      <td>NaN</td>\n",
       "      <td>NaN</td>\n",
       "      <td>NaN</td>\n",
       "      <td>0.9726775956284153</td>\n",
       "      <td>0</td>\n",
       "      <td>NaN</td>\n",
       "      <td>NaN</td>\n",
       "      <td>NaN</td>\n",
       "      <td>NaN</td>\n",
       "      <td>NaN</td>\n",
       "      <td>NaN</td>\n",
       "    </tr>\n",
       "    <tr>\n",
       "      <th>1</th>\n",
       "      <td>deptartamento evolutionary ecology</td>\n",
       "      <td>NaN</td>\n",
       "      <td>0000-0003-2971-080X</td>\n",
       "      <td>MX</td>\n",
       "      <td>NaN</td>\n",
       "      <td>Dr</td>\n",
       "      <td>9.0</td>\n",
       "      <td>2005.0</td>\n",
       "      <td>employment</td>\n",
       "      <td>2016-04-15T23:57:30.944Z</td>\n",
       "      <td>Karina</td>\n",
       "      <td>2016-04-15T23:57:30.944Z</td>\n",
       "      <td>Boege</td>\n",
       "      <td>dr</td>\n",
       "      <td>phd</td>\n",
       "      <td>deptartamento evolutionary ecology</td>\n",
       "      <td>0.004492027981960868</td>\n",
       "      <td>1</td>\n",
       "      <td>deptartamento evolutionary ecology</td>\n",
       "      <td>236336.0</td>\n",
       "      <td>evolutionary biology</td>\n",
       "      <td>evolutionary ecology</td>\n",
       "      <td>evolutionary biology</td>\n",
       "      <td>fuzzy_full_substring</td>\n",
       "    </tr>\n",
       "    <tr>\n",
       "      <th>2</th>\n",
       "      <td>dept. of physiology anatomy and genetics</td>\n",
       "      <td>6396 RINGGOLD</td>\n",
       "      <td>0000-0002-7291-080X</td>\n",
       "      <td>GB</td>\n",
       "      <td>NaN</td>\n",
       "      <td>NaN</td>\n",
       "      <td>NaN</td>\n",
       "      <td>NaN</td>\n",
       "      <td>employment</td>\n",
       "      <td>2016-04-15T22:59:44.629Z</td>\n",
       "      <td>Justin</td>\n",
       "      <td>2016-03-17T10:10:50.570Z</td>\n",
       "      <td>Hean</td>\n",
       "      <td>NaN</td>\n",
       "      <td>NaN</td>\n",
       "      <td>dept. of physiology anatomy and genetics</td>\n",
       "      <td>0.9950673219211867</td>\n",
       "      <td>2</td>\n",
       "      <td>dept. of physiology anatomy and genetics</td>\n",
       "      <td>9121.0</td>\n",
       "      <td>blacklist</td>\n",
       "      <td>anatomy</td>\n",
       "      <td>anatomy</td>\n",
       "      <td>full_substring</td>\n",
       "    </tr>\n",
       "    <tr>\n",
       "      <th>3</th>\n",
       "      <td>dept. of physiology anatomy and genetics</td>\n",
       "      <td>6396 RINGGOLD</td>\n",
       "      <td>0000-0002-7291-080X</td>\n",
       "      <td>GB</td>\n",
       "      <td>NaN</td>\n",
       "      <td>NaN</td>\n",
       "      <td>NaN</td>\n",
       "      <td>NaN</td>\n",
       "      <td>employment</td>\n",
       "      <td>2016-04-15T22:59:44.629Z</td>\n",
       "      <td>Justin</td>\n",
       "      <td>2016-03-17T10:10:50.570Z</td>\n",
       "      <td>Hean</td>\n",
       "      <td>NaN</td>\n",
       "      <td>NaN</td>\n",
       "      <td>dept. of physiology anatomy and genetics</td>\n",
       "      <td>0.9950673219211867</td>\n",
       "      <td>2</td>\n",
       "      <td>dept. of physiology anatomy and genetics</td>\n",
       "      <td>9121.0</td>\n",
       "      <td>blacklist</td>\n",
       "      <td>iology</td>\n",
       "      <td>biology</td>\n",
       "      <td>fuzzy_subword</td>\n",
       "    </tr>\n",
       "    <tr>\n",
       "      <th>4</th>\n",
       "      <td>dept. of physiology anatomy and genetics</td>\n",
       "      <td>6396 RINGGOLD</td>\n",
       "      <td>0000-0002-7291-080X</td>\n",
       "      <td>GB</td>\n",
       "      <td>NaN</td>\n",
       "      <td>NaN</td>\n",
       "      <td>NaN</td>\n",
       "      <td>NaN</td>\n",
       "      <td>employment</td>\n",
       "      <td>2016-04-15T22:59:44.629Z</td>\n",
       "      <td>Justin</td>\n",
       "      <td>2016-03-17T10:10:50.570Z</td>\n",
       "      <td>Hean</td>\n",
       "      <td>NaN</td>\n",
       "      <td>NaN</td>\n",
       "      <td>dept. of physiology anatomy and genetics</td>\n",
       "      <td>0.9950673219211867</td>\n",
       "      <td>2</td>\n",
       "      <td>dept. of physiology anatomy and genetics</td>\n",
       "      <td>9121.0</td>\n",
       "      <td>NaN</td>\n",
       "      <td>NaN</td>\n",
       "      <td>NaN</td>\n",
       "      <td>blacklist</td>\n",
       "    </tr>\n",
       "  </tbody>\n",
       "</table>\n",
       "</div>"
      ],
      "text/plain": [
       "                                       dept      disamb_org  \\\n",
       "0                                       NaN  12436 RINGGOLD   \n",
       "1        deptartamento evolutionary ecology             NaN   \n",
       "2  dept. of physiology anatomy and genetics   6396 RINGGOLD   \n",
       "3  dept. of physiology anatomy and genetics   6396 RINGGOLD   \n",
       "4  dept. of physiology anatomy and genetics   6396 RINGGOLD   \n",
       "\n",
       "                   oid org_country  org_name role  start_month  start_year  \\\n",
       "0  0000-0002-9666-480X          CN       NaN  NaN          7.0      2013.0   \n",
       "1  0000-0003-2971-080X          MX       NaN   Dr          9.0      2005.0   \n",
       "2  0000-0002-7291-080X          GB       NaN  NaN          NaN         NaN   \n",
       "3  0000-0002-7291-080X          GB       NaN  NaN          NaN         NaN   \n",
       "4  0000-0002-7291-080X          GB       NaN  NaN          NaN         NaN   \n",
       "\n",
       "   emp_or_edu  person_created_prof_date person_first_name  \\\n",
       "0  employment  2018-08-02T09:12:46.266Z               Rui   \n",
       "1  employment  2016-04-15T23:57:30.944Z            Karina   \n",
       "2  employment  2016-04-15T22:59:44.629Z            Justin   \n",
       "3  employment  2016-04-15T22:59:44.629Z            Justin   \n",
       "4  employment  2016-04-15T22:59:44.629Z            Justin   \n",
       "\n",
       "       person_last_mod_date person_last_name clean_role role_category  \\\n",
       "0  2018-08-02T09:12:46.499Z               Lu        NaN           NaN   \n",
       "1  2016-04-15T23:57:30.944Z            Boege         dr           phd   \n",
       "2  2016-03-17T10:10:50.570Z             Hean        NaN           NaN   \n",
       "3  2016-03-17T10:10:50.570Z             Hean        NaN           NaN   \n",
       "4  2016-03-17T10:10:50.570Z             Hean        NaN           NaN   \n",
       "\n",
       "                                 clean_dept           gender_prob  row_index  \\\n",
       "0                                       NaN    0.9726775956284153          0   \n",
       "1        deptartamento evolutionary ecology  0.004492027981960868          1   \n",
       "2  dept. of physiology anatomy and genetics    0.9950673219211867          2   \n",
       "3  dept. of physiology anatomy and genetics    0.9950673219211867          2   \n",
       "4  dept. of physiology anatomy and genetics    0.9950673219211867          2   \n",
       "\n",
       "                                  fieldname  field_index  \\\n",
       "0                                       NaN          NaN   \n",
       "1        deptartamento evolutionary ecology     236336.0   \n",
       "2  dept. of physiology anatomy and genetics       9121.0   \n",
       "3  dept. of physiology anatomy and genetics       9121.0   \n",
       "4  dept. of physiology anatomy and genetics       9121.0   \n",
       "\n",
       "          matched_field            field_term          matched_text  \\\n",
       "0                   NaN                   NaN                   NaN   \n",
       "1  evolutionary biology  evolutionary ecology  evolutionary biology   \n",
       "2             blacklist               anatomy               anatomy   \n",
       "3             blacklist                iology               biology   \n",
       "4                   NaN                   NaN                   NaN   \n",
       "\n",
       "              matchtype  \n",
       "0                   NaN  \n",
       "1  fuzzy_full_substring  \n",
       "2        full_substring  \n",
       "3         fuzzy_subword  \n",
       "4             blacklist  "
      ]
     },
     "execution_count": 4,
     "metadata": {},
     "output_type": "execute_result"
    }
   ],
   "source": [
    "df.head()"
   ]
  },
  {
   "cell_type": "code",
   "execution_count": 5,
   "metadata": {},
   "outputs": [],
   "source": [
    "from datetime import datetime\n",
    "def get_date(x):\n",
    "    if pd.isnull(x.start_year):\n",
    "        return None\n",
    "    if pd.isnull(x.start_month):\n",
    "        try:\n",
    "            return datetime(int(x.start_year),1,1)\n",
    "        except:\n",
    "            return None\n",
    "    try:\n",
    "        return datetime(int(x.start_year),int(x.start_month),1)\n",
    "    except:\n",
    "        return None\n",
    "date = df.apply(get_date, axis=1)"
   ]
  },
  {
   "cell_type": "code",
   "execution_count": 6,
   "metadata": {},
   "outputs": [],
   "source": [
    "df = df.assign(date_col = date)\n"
   ]
  },
  {
   "cell_type": "code",
   "execution_count": 7,
   "metadata": {},
   "outputs": [
    {
     "data": {
      "text/plain": [
       "(6272006, 0.10272040556083652)"
      ]
     },
     "execution_count": 7,
     "metadata": {},
     "output_type": "execute_result"
    }
   ],
   "source": [
    "df.shape[0], float(df[pd.isnull(df.date_col)].shape[0])/df.shape[0]"
   ]
  },
  {
   "cell_type": "code",
   "execution_count": 8,
   "metadata": {},
   "outputs": [],
   "source": [
    "# order by date first, then role, then noting\n",
    "\n",
    "role_order = {\"bachelors\" : 1,\n",
    "              \"masters/postgrad\" : 2,\n",
    "              \"phd\" : 3,\n",
    "              \"postdoc\" : 4,\n",
    "              \"prof\" : 5,\n",
    "              \"head\" : 5}\n",
    "df = df.assign(role_num=df.role_category.map(role_order))"
   ]
  },
  {
   "cell_type": "code",
   "execution_count": 9,
   "metadata": {},
   "outputs": [],
   "source": [
    "df = df.sort_values(['oid','date_col','role_num'])"
   ]
  },
  {
   "cell_type": "markdown",
   "metadata": {},
   "source": [
    "# Create clean dataset for initial analysis"
   ]
  },
  {
   "cell_type": "code",
   "execution_count": 10,
   "metadata": {},
   "outputs": [],
   "source": [
    "clean_df = df.copy()"
   ]
  },
  {
   "cell_type": "code",
   "execution_count": 11,
   "metadata": {},
   "outputs": [
    {
     "data": {
      "text/plain": [
       "(6272006, 26)"
      ]
     },
     "execution_count": 11,
     "metadata": {},
     "output_type": "execute_result"
    }
   ],
   "source": [
    "df.shape"
   ]
  },
  {
   "cell_type": "code",
   "execution_count": 12,
   "metadata": {},
   "outputs": [
    {
     "data": {
      "text/plain": [
       "Index(['dept', 'disamb_org', 'oid', 'org_country', 'org_name', 'role',\n",
       "       'start_month', 'start_year', 'emp_or_edu', 'person_created_prof_date',\n",
       "       'person_first_name', 'person_last_mod_date', 'person_last_name',\n",
       "       'clean_role', 'role_category', 'clean_dept', 'gender_prob', 'row_index',\n",
       "       'fieldname', 'field_index', 'matched_field', 'field_term',\n",
       "       'matched_text', 'matchtype', 'date_col', 'role_num'],\n",
       "      dtype='object')"
      ]
     },
     "execution_count": 12,
     "metadata": {},
     "output_type": "execute_result"
    }
   ],
   "source": [
    "clean_df.columns"
   ]
  },
  {
   "cell_type": "code",
   "execution_count": 13,
   "metadata": {},
   "outputs": [],
   "source": [
    "# Drop all affiliations where there was no department string\n",
    "clean_df = clean_df[~pd.isna(clean_df.field_index)]\n",
    "\n",
    "# Drop all affiliations where there is no first or last name\n",
    "clean_df = clean_df[~(pd.isna(clean_df.person_first_name) & pd.isna(clean_df.person_last_name))]\n",
    "\n",
    "# Drop all affiliations where there is no role or date\n",
    "clean_df = clean_df[~(pd.isna(clean_df.date_col) & pd.isna(clean_df.role_num))]"
   ]
  },
  {
   "cell_type": "code",
   "execution_count": 14,
   "metadata": {},
   "outputs": [
    {
     "data": {
      "text/plain": [
       "3988331"
      ]
     },
     "execution_count": 14,
     "metadata": {},
     "output_type": "execute_result"
    }
   ],
   "source": [
    "clean_df.row_index.nunique()"
   ]
  },
  {
   "cell_type": "code",
   "execution_count": 15,
   "metadata": {},
   "outputs": [
    {
     "data": {
      "text/plain": [
       "1617861"
      ]
     },
     "execution_count": 15,
     "metadata": {},
     "output_type": "execute_result"
    }
   ],
   "source": [
    "clean_df.oid.nunique()"
   ]
  },
  {
   "cell_type": "code",
   "execution_count": 16,
   "metadata": {},
   "outputs": [
    {
     "data": {
      "text/plain": [
       "2704493"
      ]
     },
     "execution_count": 16,
     "metadata": {},
     "output_type": "execute_result"
    }
   ],
   "source": [
    "clean_df[clean_df.matchtype != 'no_match'].row_index.nunique()"
   ]
  },
  {
   "cell_type": "code",
   "execution_count": 17,
   "metadata": {},
   "outputs": [],
   "source": [
    "# Drop all affiliations that didn't match any of our strings\n",
    "clean_df = clean_df[clean_df.matchtype != 'no_match']"
   ]
  },
  {
   "cell_type": "code",
   "execution_count": 18,
   "metadata": {},
   "outputs": [
    {
     "data": {
      "text/plain": [
       "2704493"
      ]
     },
     "execution_count": 18,
     "metadata": {},
     "output_type": "execute_result"
    }
   ],
   "source": [
    "clean_df.row_index.nunique()"
   ]
  },
  {
   "cell_type": "code",
   "execution_count": 19,
   "metadata": {},
   "outputs": [],
   "source": [
    "# get rid of cases where we're matching the same field twice (or the blacklist twice,\n",
    "# we are going to get rid of those anyway\n",
    "clean_df = clean_df[~clean_df.duplicated(subset=['row_index','matched_field'])]"
   ]
  },
  {
   "cell_type": "code",
   "execution_count": 20,
   "metadata": {},
   "outputs": [
    {
     "data": {
      "text/plain": [
       "1    1998875\n",
       "2     633817\n",
       "3      68469\n",
       "4       3210\n",
       "5        114\n",
       "6          7\n",
       "7          1\n",
       "dtype: int64"
      ]
     },
     "execution_count": 20,
     "metadata": {},
     "output_type": "execute_result"
    }
   ],
   "source": [
    "clean_df.groupby('row_index').size().value_counts()"
   ]
  },
  {
   "cell_type": "code",
   "execution_count": 21,
   "metadata": {},
   "outputs": [
    {
     "data": {
      "text/plain": [
       "[Text(0, 0.5, 'Number of Affiliations'),\n",
       " Text(0.5, 0, 'Fields Per Affiliation')]"
      ]
     },
     "execution_count": 21,
     "metadata": {},
     "output_type": "execute_result"
    },
    {
     "data": {
      "image/png": "[encoded data removed]",
      "text/plain": [
       "<Figure size 432x288 with 1 Axes>"
      ]
     },
     "metadata": {},
     "output_type": "display_data"
    }
   ],
   "source": [
    "sns.set_context(\"notebook\", font_scale=1.5, rc={\"lines.linewidth\": 2.5})\n",
    "\n",
    "p = sns.barplot(x='N',y='count',\n",
    "            data=clean_df.groupby('row_index').size()\n",
    "            .value_counts()\n",
    "            .reset_index()\n",
    "            .rename(index=str, columns={\"index\":\"N\",0:\"count\"}))\n",
    "p.set(xlabel=\"Fields Per Affiliation\",ylabel='Number of Affiliations')\n"
   ]
  },
  {
   "cell_type": "code",
   "execution_count": 22,
   "metadata": {},
   "outputs": [
    {
     "name": "stdout",
     "output_type": "stream",
     "text": [
      "0.7390941666330806% of the remaining matches are to exactly one of our fields or the blacklist\n"
     ]
    }
   ],
   "source": [
    "v = clean_df.groupby('row_index').size().value_counts().iloc[0]/clean_df.row_index.nunique()\n",
    "print(\"{}% of the remaining matches are to exactly one of our fields or the blacklist\".format(v))"
   ]
  },
  {
   "cell_type": "code",
   "execution_count": 23,
   "metadata": {},
   "outputs": [],
   "source": [
    "# Subset to those with only one match\n",
    "size_id = clean_df.groupby('row_index').size()\n",
    "rows_with_single_match = size_id[size_id == 1].index\n"
   ]
  },
  {
   "cell_type": "code",
   "execution_count": 24,
   "metadata": {},
   "outputs": [],
   "source": [
    "clean_df = clean_df[clean_df.row_index.isin(rows_with_single_match)]"
   ]
  },
  {
   "cell_type": "code",
   "execution_count": 25,
   "metadata": {},
   "outputs": [
    {
     "data": {
      "text/plain": [
       "(1998875, 26)"
      ]
     },
     "execution_count": 25,
     "metadata": {},
     "output_type": "execute_result"
    }
   ],
   "source": [
    "clean_df.shape"
   ]
  },
  {
   "cell_type": "code",
   "execution_count": 26,
   "metadata": {},
   "outputs": [
    {
     "name": "stdout",
     "output_type": "stream",
     "text": [
      "Of the single matches, 0.6991142517666187% are to our fields, not the blacklist\n"
     ]
    }
   ],
   "source": [
    "v = clean_df[clean_df.matched_field != \"blacklist\"].shape[0]/clean_df.shape[0]\n",
    "print(\"Of the single matches, {}% are to our fields, not the blacklist\".format(v))"
   ]
  },
  {
   "cell_type": "code",
   "execution_count": 27,
   "metadata": {},
   "outputs": [],
   "source": [
    "# Subset to non-blacklist matches\n",
    "clean_df = clean_df[(clean_df.matched_field != \"blacklist\") & (clean_df.matchtype != \"blacklist\")]"
   ]
  },
  {
   "cell_type": "code",
   "execution_count": 28,
   "metadata": {},
   "outputs": [
    {
     "data": {
      "text/plain": [
       "1274089"
      ]
     },
     "execution_count": 28,
     "metadata": {},
     "output_type": "execute_result"
    }
   ],
   "source": [
    "clean_df.shape[0]"
   ]
  },
  {
   "cell_type": "code",
   "execution_count": 29,
   "metadata": {},
   "outputs": [
    {
     "data": {
      "text/html": [
       "<div>\n",
       "<style scoped>\n",
       "    .dataframe tbody tr th:only-of-type {\n",
       "        vertical-align: middle;\n",
       "    }\n",
       "\n",
       "    .dataframe tbody tr th {\n",
       "        vertical-align: top;\n",
       "    }\n",
       "\n",
       "    .dataframe thead th {\n",
       "        text-align: right;\n",
       "    }\n",
       "</style>\n",
       "<table border=\"1\" class=\"dataframe\">\n",
       "  <thead>\n",
       "    <tr style=\"text-align: right;\">\n",
       "      <th></th>\n",
       "      <th>matchtype</th>\n",
       "      <th>0</th>\n",
       "    </tr>\n",
       "  </thead>\n",
       "  <tbody>\n",
       "    <tr>\n",
       "      <th>0</th>\n",
       "      <td>editdist</td>\n",
       "      <td>20725</td>\n",
       "    </tr>\n",
       "    <tr>\n",
       "      <th>1</th>\n",
       "      <td>exact_full</td>\n",
       "      <td>753633</td>\n",
       "    </tr>\n",
       "    <tr>\n",
       "      <th>2</th>\n",
       "      <td>full_substring</td>\n",
       "      <td>429631</td>\n",
       "    </tr>\n",
       "    <tr>\n",
       "      <th>3</th>\n",
       "      <td>fuzzy_full_substring</td>\n",
       "      <td>13287</td>\n",
       "    </tr>\n",
       "    <tr>\n",
       "      <th>4</th>\n",
       "      <td>fuzzy_subword</td>\n",
       "      <td>19902</td>\n",
       "    </tr>\n",
       "    <tr>\n",
       "      <th>5</th>\n",
       "      <td>subword</td>\n",
       "      <td>36911</td>\n",
       "    </tr>\n",
       "  </tbody>\n",
       "</table>\n",
       "</div>"
      ],
      "text/plain": [
       "              matchtype       0\n",
       "0              editdist   20725\n",
       "1            exact_full  753633\n",
       "2        full_substring  429631\n",
       "3  fuzzy_full_substring   13287\n",
       "4         fuzzy_subword   19902\n",
       "5               subword   36911"
      ]
     },
     "execution_count": 29,
     "metadata": {},
     "output_type": "execute_result"
    }
   ],
   "source": [
    "clean_df.groupby('matchtype').size().reset_index()"
   ]
  },
  {
   "cell_type": "code",
   "execution_count": 30,
   "metadata": {},
   "outputs": [
    {
     "data": {
      "text/plain": [
       "[Text(0, 0.5, 'Number of Affiliations'), Text(0.5, 0, 'Type of Match')]"
      ]
     },
     "execution_count": 30,
     "metadata": {},
     "output_type": "execute_result"
    },
    {
     "data": {
      "image/png": "[encoded data removed]",
      "text/plain": [
       "<Figure size 432x288 with 1 Axes>"
      ]
     },
     "metadata": {},
     "output_type": "display_data"
    }
   ],
   "source": [
    "sns.set_context(\"notebook\", font_scale=1.5, rc={\"lines.linewidth\": 2.5})\n",
    "\n",
    "p = sns.barplot(y='N',x='count',\n",
    "            data=clean_df.groupby('matchtype').size().reset_index()\n",
    "                .rename(index=str, columns={\"matchtype\":\"N\",0:\"count\"}))\n",
    "p.set(xlabel=\"Type of Match\",ylabel='Number of Affiliations')"
   ]
  },
  {
   "cell_type": "code",
   "execution_count": 31,
   "metadata": {},
   "outputs": [],
   "source": [
    "clean_df.to_csv(\"../../data/output/cleaned_singlematchtofield_affiliations.csv\",index=False)"
   ]
  },
  {
   "cell_type": "markdown",
   "metadata": {},
   "source": [
    "# Create Switches"
   ]
  },
  {
   "cell_type": "code",
   "execution_count": 32,
   "metadata": {},
   "outputs": [],
   "source": [
    "df = clean_df"
   ]
  },
  {
   "cell_type": "code",
   "execution_count": 33,
   "metadata": {},
   "outputs": [
    {
     "name": "stdout",
     "output_type": "stream",
     "text": [
      "(323687, 2)\n",
      "(685650, 2)\n"
     ]
    }
   ],
   "source": [
    "potential_switch_users = df.groupby(\"oid\").size().reset_index()\n",
    "potential_switch_users.columns = ['oid','cnt']\n",
    "print(potential_switch_users[potential_switch_users.cnt > 1].shape)\n",
    "print(potential_switch_users.shape)\n",
    "potential_switch_users = potential_switch_users[potential_switch_users.cnt > 1]"
   ]
  },
  {
   "cell_type": "code",
   "execution_count": 34,
   "metadata": {},
   "outputs": [],
   "source": [
    "df = df[df.oid.isin(potential_switch_users.oid)]"
   ]
  },
  {
   "cell_type": "code",
   "execution_count": 35,
   "metadata": {},
   "outputs": [
    {
     "data": {
      "text/plain": [
       "2     180129\n",
       "3      76335\n",
       "4      36874\n",
       "5      16521\n",
       "6       7931\n",
       "7       3405\n",
       "8       1518\n",
       "9        659\n",
       "10       219\n",
       "11        76\n",
       "12        20\n",
       "dtype: int64"
      ]
     },
     "execution_count": 35,
     "metadata": {},
     "output_type": "execute_result"
    }
   ],
   "source": [
    "df.groupby(\"oid\").size().value_counts()"
   ]
  },
  {
   "cell_type": "code",
   "execution_count": 36,
   "metadata": {},
   "outputs": [
    {
     "data": {
      "text/plain": [
       "323687"
      ]
     },
     "execution_count": 36,
     "metadata": {},
     "output_type": "execute_result"
    }
   ],
   "source": [
    "df.oid.nunique()"
   ]
  },
  {
   "cell_type": "code",
   "execution_count": 37,
   "metadata": {},
   "outputs": [
    {
     "data": {
      "text/plain": [
       "0.9614274782212107"
      ]
     },
     "execution_count": 37,
     "metadata": {},
     "output_type": "execute_result"
    }
   ],
   "source": [
    "1-df[pd.isnull(df.date_col)].shape[0]/df.shape[0]"
   ]
  },
  {
   "cell_type": "code",
   "execution_count": 38,
   "metadata": {},
   "outputs": [],
   "source": [
    "\n",
    "def get_sorted(dat):\n",
    "    # sort by year if we have that data\n",
    "    date_sorted = dat[~pd.isnull(dat.date_col)].sort_values(\"date_col\")\n",
    "    other = dat[pd.isnull(dat.date_col)]\n",
    "    # if we have dates for everything, yay! We're done!\n",
    "    if len(date_sorted) == len(dat):\n",
    "        return {\"date_plus_role\":date_sorted, \"role_only\":None}\n",
    "    \n",
    "    # maybe we have roles for everything?\n",
    "    if len(other) == len(dat) and np.sum(pd.isnull(dat.role_num)) == 0:\n",
    "        # cool. might not have switches for everything because role nums are \n",
    "        # equal, but we can at least sort on it\n",
    "        return {\"date_plus_role\": other.sort_values(\"role_num\"),\n",
    "                \"role_only\" : None}\n",
    "    \n",
    "    #otherwise we have a mix of dates and no dates\n",
    "    \n",
    "    #if a row has no date and no role, we have to just drop it\n",
    "    other = other[~pd.isnull(other.role_num)]\n",
    "    \n",
    "    # if there's nothing left, we're done\n",
    "    if len(other) == 0:\n",
    "        return {\"date_plus_role\":date_sorted,\n",
    "                \"role_only\" : None}\n",
    "    \n",
    "    # otherwise, lets try to drop the role-defined indices into the date-defined indices\n",
    "    role_rows_to_remove = []\n",
    "    for other_row_iter, orv in enumerate(other.iterrows()):\n",
    "        i, row_other = orv\n",
    "        found_position = False\n",
    "        for date_row_iter, dr in enumerate(date_sorted.iterrows()):\n",
    "            j, row_date = dr\n",
    "            if row_other['role_num'] <= row_date['role_num']:\n",
    "                found_position = True\n",
    "                break\n",
    "        if found_position:\n",
    "            role_rows_to_remove.append(i)\n",
    "            date_sorted = (date_sorted.iloc[:date_row_iter]\n",
    "                            .append(other.iloc[other_row_iter,:])\n",
    "                            .append(date_sorted.iloc[date_row_iter:]))\n",
    "            \n",
    "    # drop the role rows we've managed to put into the date-sorted data\n",
    "    other = other.drop(role_rows_to_remove)\n",
    "    \n",
    "    # at this point we've merged the dates and the roles data as best we can\n",
    "    # if there's still role data left, we couldn't connect it to the date info\n",
    "    # so we're gonna have to return both dataframes\n",
    "    return {\"date_plus_role\" : date_sorted,\n",
    "            \"role_only\" : other\n",
    "            }\n",
    "\n",
    "def field_set(f):\n",
    "    #print f,  \" set: \", set(f.split(\"||\")) - {\"NONE\",\"REGEX\",\"\"}\n",
    "    return set(f.split(\"||\")) - {\"NONE\",\"REGEX\",\"\"}\n",
    "\n",
    "\n",
    "gen_rows_to_incl = ['oid','person_first_name','person_last_name']#,'genni','ethnea','orcid']\n",
    "per_col_to_incl = ['date_col','role_category','matched_field','matchtype','emp_or_edu','row_index','org_country','org_name']\n",
    "def get_switches(ordered_deps):\n",
    "    # *** Assumes pre-sorted!\n",
    "    if ordered_deps is None:\n",
    "        return []\n",
    "    \n",
    "    # The set approach isn't really necessary anymore but its fine to keep it\n",
    "    switches = []\n",
    "    for i, j in zip(range(len(ordered_deps)),range(1,len(ordered_deps))):\n",
    "        #print set1, set2\n",
    "        #if ordered_deps.matched_field.iloc[i] != ordered_deps.matched_field.iloc[j]:\n",
    "            #print '\\t switch'\n",
    "        switches.append(ordered_deps.loc[ordered_deps.index[i],gen_rows_to_incl+per_col_to_incl].tolist() +\n",
    "                        ordered_deps.loc[ordered_deps.index[j],per_col_to_incl].tolist())\n",
    "        #else:\n",
    "            #print '\\t not switch'\n",
    "    return switches\n",
    "    \n",
    "\n",
    "def sort_and_compute_switch(dat):\n",
    "    # get sorted date+role and role-only dataframes\n",
    "    sorted_dfs = get_sorted(dat)\n",
    "    date_plus_role = sorted_dfs['date_plus_role']\n",
    "    role_only = sorted_dfs['role_only']\n",
    "    \n",
    "    # get switches (if there possibly are any)\n",
    "    return get_switches(date_plus_role) + get_switches(role_only)\n"
   ]
  },
  {
   "cell_type": "code",
   "execution_count": 39,
   "metadata": {},
   "outputs": [],
   "source": [
    "switch_res = df.groupby(\"oid\").apply(sort_and_compute_switch)"
   ]
  },
  {
   "cell_type": "code",
   "execution_count": 40,
   "metadata": {},
   "outputs": [],
   "source": [
    "switches = pd.DataFrame([x for y in switch_res for x in y])"
   ]
  },
  {
   "cell_type": "code",
   "execution_count": 41,
   "metadata": {},
   "outputs": [],
   "source": [
    "switches.columns = gen_rows_to_incl + [\"from_\"+x for x in per_col_to_incl] + [\"to_\"+x for x in per_col_to_incl]"
   ]
  },
  {
   "cell_type": "code",
   "execution_count": 42,
   "metadata": {},
   "outputs": [],
   "source": [
    "switches.to_csv(\"../../data/output/all_switches_w_samefield.csv\")"
   ]
  },
  {
   "cell_type": "code",
   "execution_count": 43,
   "metadata": {},
   "outputs": [
    {
     "data": {
      "text/plain": [
       "(583333, 19)"
      ]
     },
     "execution_count": 43,
     "metadata": {},
     "output_type": "execute_result"
    }
   ],
   "source": [
    "switches.shape"
   ]
  },
  {
   "cell_type": "code",
   "execution_count": null,
   "metadata": {},
   "outputs": [],
   "source": []
  }
 ],
 "metadata": {
  "anaconda-cloud": {},
  "kernelspec": {
   "display_name": "Python 3",
   "language": "python",
   "name": "python3"
  },
  "language_info": {
   "codemirror_mode": {
    "name": "ipython",
    "version": 3
   },
   "file_extension": ".py",
   "mimetype": "text/x-python",
   "name": "python",
   "nbconvert_exporter": "python",
   "pygments_lexer": "ipython3",
   "version": "3.6.6"
  }
 },
 "nbformat": 4,
 "nbformat_minor": 1
}
