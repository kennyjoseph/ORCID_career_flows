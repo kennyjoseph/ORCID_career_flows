{
 "cells": [
  {
   "cell_type": "code",
   "execution_count": 1,
   "metadata": {
    "collapsed": true
   },
   "outputs": [],
   "source": [
    "import numpy as np\n",
    "import multiprocessing\n",
    "\n",
    "\n",
    "import pandas as pd\n",
    "import seaborn as sns\n",
    "import matplotlib\n",
    "import matplotlib.pyplot as plt\n",
    "sns.set_style(\"ticks\")\n",
    "pd.set_option('display.max_columns', 500)"
   ]
  },
  {
   "cell_type": "code",
   "execution_count": 2,
   "metadata": {
    "collapsed": true
   },
   "outputs": [],
   "source": [
    "%matplotlib inline"
   ]
  },
  {
   "cell_type": "code",
   "execution_count": 4,
   "metadata": {
    "collapsed": true
   },
   "outputs": [],
   "source": [
    "df = pd.read_csv(\"../processed/cleaned_all_affiliations.csv.gz\")\n",
    "df.drop(\"Unnamed: 0\",axis=1,inplace=True)"
   ]
  },
  {
   "cell_type": "markdown",
   "metadata": {},
   "source": [
    "# Get the date of the affiliation and set the order of role affiliations"
   ]
  },
  {
   "cell_type": "code",
   "execution_count": 5,
   "metadata": {},
   "outputs": [
    {
     "data": {
      "text/html": [
       "<div>\n",
       "<style scoped>\n",
       "    .dataframe tbody tr th:only-of-type {\n",
       "        vertical-align: middle;\n",
       "    }\n",
       "\n",
       "    .dataframe tbody tr th {\n",
       "        vertical-align: top;\n",
       "    }\n",
       "\n",
       "    .dataframe thead th {\n",
       "        text-align: right;\n",
       "    }\n",
       "</style>\n",
       "<table border=\"1\" class=\"dataframe\">\n",
       "  <thead>\n",
       "    <tr style=\"text-align: right;\">\n",
       "      <th></th>\n",
       "      <th>org_name</th>\n",
       "      <th>org_country</th>\n",
       "      <th>start_month</th>\n",
       "      <th>start_year</th>\n",
       "      <th>role</th>\n",
       "      <th>dept</th>\n",
       "      <th>emp_or_edu</th>\n",
       "      <th>disamb_org</th>\n",
       "      <th>oid</th>\n",
       "      <th>person_created_prof_date</th>\n",
       "      <th>person_last_mod_date</th>\n",
       "      <th>person_first_name</th>\n",
       "      <th>person_last_name</th>\n",
       "      <th>clean_role</th>\n",
       "      <th>role_category</th>\n",
       "      <th>clean_dept</th>\n",
       "      <th>row_index</th>\n",
       "      <th>fieldname</th>\n",
       "      <th>field_index</th>\n",
       "      <th>matched_field</th>\n",
       "      <th>field_term</th>\n",
       "      <th>matched_text</th>\n",
       "      <th>matchtype</th>\n",
       "    </tr>\n",
       "  </thead>\n",
       "  <tbody>\n",
       "    <tr>\n",
       "      <th>0</th>\n",
       "      <td>Niagara College</td>\n",
       "      <td>CA</td>\n",
       "      <td>9.0</td>\n",
       "      <td>1976.0</td>\n",
       "      <td>Library Technician Diploma</td>\n",
       "      <td>NaN</td>\n",
       "      <td>education</td>\n",
       "      <td>125147 RINGGOLD</td>\n",
       "      <td>0000-0001-5109-1000</td>\n",
       "      <td>2019-05-01T13:04:57.507Z</td>\n",
       "      <td>2019-05-01T13:45:47.727Z</td>\n",
       "      <td>Andrew</td>\n",
       "      <td>Porteus</td>\n",
       "      <td>library technician diploma</td>\n",
       "      <td>NaN</td>\n",
       "      <td>NaN</td>\n",
       "      <td>0</td>\n",
       "      <td>NaN</td>\n",
       "      <td>NaN</td>\n",
       "      <td>NaN</td>\n",
       "      <td>NaN</td>\n",
       "      <td>NaN</td>\n",
       "      <td>NaN</td>\n",
       "    </tr>\n",
       "    <tr>\n",
       "      <th>1</th>\n",
       "      <td>PCSIR Labs. Complex, Ferozepur Road</td>\n",
       "      <td>PK</td>\n",
       "      <td>3.0</td>\n",
       "      <td>2001.0</td>\n",
       "      <td>Scientific Officer</td>\n",
       "      <td>applied chemistry research centre</td>\n",
       "      <td>employment</td>\n",
       "      <td>NaN</td>\n",
       "      <td>0000-0001-5042-7000</td>\n",
       "      <td>2016-04-15T20:46:17.804Z</td>\n",
       "      <td>2016-04-15T20:46:17.804Z</td>\n",
       "      <td>Muhammad Usman</td>\n",
       "      <td>Sabri</td>\n",
       "      <td>scientific officer</td>\n",
       "      <td>NaN</td>\n",
       "      <td>applied chemistry research centre</td>\n",
       "      <td>1</td>\n",
       "      <td>applied chemistry research centre</td>\n",
       "      <td>122347.0</td>\n",
       "      <td>chemistry</td>\n",
       "      <td>chemistry</td>\n",
       "      <td>chemistry</td>\n",
       "      <td>full_substring</td>\n",
       "    </tr>\n",
       "    <tr>\n",
       "      <th>2</th>\n",
       "      <td>University of the Punjab</td>\n",
       "      <td>PK</td>\n",
       "      <td>NaN</td>\n",
       "      <td>2001.0</td>\n",
       "      <td>Master</td>\n",
       "      <td>chemistry</td>\n",
       "      <td>education</td>\n",
       "      <td>66906 RINGGOLD</td>\n",
       "      <td>0000-0001-5042-7000</td>\n",
       "      <td>2016-04-15T20:46:17.804Z</td>\n",
       "      <td>2016-04-15T20:46:17.804Z</td>\n",
       "      <td>Muhammad Usman</td>\n",
       "      <td>Sabri</td>\n",
       "      <td>master</td>\n",
       "      <td>masters/postgrad</td>\n",
       "      <td>chemistry</td>\n",
       "      <td>2</td>\n",
       "      <td>chemistry</td>\n",
       "      <td>0.0</td>\n",
       "      <td>chemistry</td>\n",
       "      <td>chemistry</td>\n",
       "      <td>chemistry</td>\n",
       "      <td>exact_full</td>\n",
       "    </tr>\n",
       "    <tr>\n",
       "      <th>3</th>\n",
       "      <td>University College London Hospitals NHS Founda...</td>\n",
       "      <td>GB</td>\n",
       "      <td>7.0</td>\n",
       "      <td>2014.0</td>\n",
       "      <td>Consultant Neuroradiologist</td>\n",
       "      <td>lysholm department of neuroradiology</td>\n",
       "      <td>employment</td>\n",
       "      <td>98546 RINGGOLD</td>\n",
       "      <td>0000-0001-5136-6000</td>\n",
       "      <td>2018-02-07T09:59:17.219Z</td>\n",
       "      <td>2018-02-07T09:59:17.444Z</td>\n",
       "      <td>Steffi</td>\n",
       "      <td>Thust</td>\n",
       "      <td>consultant neuroradiologist</td>\n",
       "      <td>NaN</td>\n",
       "      <td>lysholm neuroradiology</td>\n",
       "      <td>3</td>\n",
       "      <td>lysholm neuroradiology</td>\n",
       "      <td>58866.0</td>\n",
       "      <td>blacklist</td>\n",
       "      <td>radiology</td>\n",
       "      <td>radiology</td>\n",
       "      <td>subword</td>\n",
       "    </tr>\n",
       "    <tr>\n",
       "      <th>4</th>\n",
       "      <td>University College London Hospitals NHS Founda...</td>\n",
       "      <td>GB</td>\n",
       "      <td>7.0</td>\n",
       "      <td>2014.0</td>\n",
       "      <td>Consultant Neuroradiologist</td>\n",
       "      <td>lysholm department of neuroradiology</td>\n",
       "      <td>employment</td>\n",
       "      <td>98546 RINGGOLD</td>\n",
       "      <td>0000-0001-5136-6000</td>\n",
       "      <td>2018-02-07T09:59:17.219Z</td>\n",
       "      <td>2018-02-07T09:59:17.444Z</td>\n",
       "      <td>Steffi</td>\n",
       "      <td>Thust</td>\n",
       "      <td>consultant neuroradiologist</td>\n",
       "      <td>NaN</td>\n",
       "      <td>lysholm neuroradiology</td>\n",
       "      <td>3</td>\n",
       "      <td>lysholm neuroradiology</td>\n",
       "      <td>58866.0</td>\n",
       "      <td>NaN</td>\n",
       "      <td>NaN</td>\n",
       "      <td>NaN</td>\n",
       "      <td>blacklist</td>\n",
       "    </tr>\n",
       "  </tbody>\n",
       "</table>\n",
       "</div>"
      ],
      "text/plain": [
       "                                            org_name org_country  start_month  \\\n",
       "0                                    Niagara College          CA          9.0   \n",
       "1                PCSIR Labs. Complex, Ferozepur Road          PK          3.0   \n",
       "2                           University of the Punjab          PK          NaN   \n",
       "3  University College London Hospitals NHS Founda...          GB          7.0   \n",
       "4  University College London Hospitals NHS Founda...          GB          7.0   \n",
       "\n",
       "   start_year                         role  \\\n",
       "0      1976.0   Library Technician Diploma   \n",
       "1      2001.0           Scientific Officer   \n",
       "2      2001.0                       Master   \n",
       "3      2014.0  Consultant Neuroradiologist   \n",
       "4      2014.0  Consultant Neuroradiologist   \n",
       "\n",
       "                                   dept  emp_or_edu       disamb_org  \\\n",
       "0                                   NaN   education  125147 RINGGOLD   \n",
       "1     applied chemistry research centre  employment              NaN   \n",
       "2                             chemistry   education   66906 RINGGOLD   \n",
       "3  lysholm department of neuroradiology  employment   98546 RINGGOLD   \n",
       "4  lysholm department of neuroradiology  employment   98546 RINGGOLD   \n",
       "\n",
       "                   oid  person_created_prof_date      person_last_mod_date  \\\n",
       "0  0000-0001-5109-1000  2019-05-01T13:04:57.507Z  2019-05-01T13:45:47.727Z   \n",
       "1  0000-0001-5042-7000  2016-04-15T20:46:17.804Z  2016-04-15T20:46:17.804Z   \n",
       "2  0000-0001-5042-7000  2016-04-15T20:46:17.804Z  2016-04-15T20:46:17.804Z   \n",
       "3  0000-0001-5136-6000  2018-02-07T09:59:17.219Z  2018-02-07T09:59:17.444Z   \n",
       "4  0000-0001-5136-6000  2018-02-07T09:59:17.219Z  2018-02-07T09:59:17.444Z   \n",
       "\n",
       "  person_first_name person_last_name                   clean_role  \\\n",
       "0            Andrew          Porteus   library technician diploma   \n",
       "1    Muhammad Usman            Sabri           scientific officer   \n",
       "2    Muhammad Usman            Sabri                       master   \n",
       "3            Steffi            Thust  consultant neuroradiologist   \n",
       "4            Steffi            Thust  consultant neuroradiologist   \n",
       "\n",
       "      role_category                         clean_dept  row_index  \\\n",
       "0               NaN                                NaN          0   \n",
       "1               NaN  applied chemistry research centre          1   \n",
       "2  masters/postgrad                          chemistry          2   \n",
       "3               NaN             lysholm neuroradiology          3   \n",
       "4               NaN             lysholm neuroradiology          3   \n",
       "\n",
       "                           fieldname  field_index matched_field field_term  \\\n",
       "0                                NaN          NaN           NaN        NaN   \n",
       "1  applied chemistry research centre     122347.0     chemistry  chemistry   \n",
       "2                          chemistry          0.0     chemistry  chemistry   \n",
       "3             lysholm neuroradiology      58866.0     blacklist  radiology   \n",
       "4             lysholm neuroradiology      58866.0           NaN        NaN   \n",
       "\n",
       "  matched_text       matchtype  \n",
       "0          NaN             NaN  \n",
       "1    chemistry  full_substring  \n",
       "2    chemistry      exact_full  \n",
       "3    radiology         subword  \n",
       "4          NaN       blacklist  "
      ]
     },
     "execution_count": 5,
     "metadata": {},
     "output_type": "execute_result"
    }
   ],
   "source": [
    "df.head()"
   ]
  },
  {
   "cell_type": "code",
   "execution_count": null,
   "metadata": {
    "collapsed": true
   },
   "outputs": [],
   "source": [
    "from datetime import datetime\n",
    "def get_date(x):\n",
    "    if pd.isnull(x.start_year):\n",
    "        return None\n",
    "    if pd.isnull(x.start_month):\n",
    "        try:\n",
    "            return datetime(int(x.start_year),1,1)\n",
    "        except:\n",
    "            return None\n",
    "    try:\n",
    "        return datetime(int(x.start_year),int(x.start_month),1)\n",
    "    except:\n",
    "        return None\n",
    "date = df.apply(get_date, axis=1)"
   ]
  },
  {
   "cell_type": "code",
   "execution_count": null,
   "metadata": {
    "collapsed": true
   },
   "outputs": [],
   "source": [
    "df = df.assign(date_col = date)\n"
   ]
  },
  {
   "cell_type": "code",
   "execution_count": null,
   "metadata": {
    "collapsed": true
   },
   "outputs": [],
   "source": [
    "df.shape[0], float(df[pd.isnull(df.date_col)].shape[0])/df.shape[0]"
   ]
  },
  {
   "cell_type": "code",
   "execution_count": null,
   "metadata": {
    "collapsed": true
   },
   "outputs": [],
   "source": [
    "# order by date first, then role, then noting\n",
    "\n",
    "role_order = {\"bachelors\" : 1,\n",
    "              \"masters/postgrad\" : 2,\n",
    "              \"phd\" : 3,\n",
    "              \"postdoc\" : 4,\n",
    "              \"prof\" : 5,\n",
    "              \"head\" : 5}\n",
    "df = df.assign(role_num=df.role_category.map(role_order))"
   ]
  },
  {
   "cell_type": "code",
   "execution_count": null,
   "metadata": {
    "collapsed": true
   },
   "outputs": [],
   "source": [
    "df = df.sort_values(['oid','date_col','role_num'])"
   ]
  },
  {
   "cell_type": "markdown",
   "metadata": {},
   "source": [
    "# Create clean dataset for initial analysis"
   ]
  },
  {
   "cell_type": "code",
   "execution_count": null,
   "metadata": {
    "collapsed": true
   },
   "outputs": [],
   "source": [
    "clean_df = df.copy()"
   ]
  },
  {
   "cell_type": "code",
   "execution_count": 15,
   "metadata": {},
   "outputs": [
    {
     "data": {
      "text/plain": [
       "(9101934, 25)"
      ]
     },
     "execution_count": 15,
     "metadata": {},
     "output_type": "execute_result"
    }
   ],
   "source": [
    "df.shape"
   ]
  },
  {
   "cell_type": "code",
   "execution_count": null,
   "metadata": {
    "collapsed": true
   },
   "outputs": [],
   "source": [
    "clean_df.columns"
   ]
  },
  {
   "cell_type": "code",
   "execution_count": null,
   "metadata": {
    "collapsed": true
   },
   "outputs": [],
   "source": [
    "# Drop all affiliations where there was no department string\n",
    "clean_df = clean_df[~pd.isna(clean_df.field_index)]\n",
    "\n",
    "# Drop all affiliations where there is no first or last name\n",
    "clean_df = clean_df[~(pd.isna(clean_df.person_first_name) & pd.isna(clean_df.person_last_name))]\n",
    "\n",
    "# Drop all affiliations where there is no role or date\n",
    "clean_df = clean_df[~(pd.isna(clean_df.date_col) & pd.isna(clean_df.role_num))]"
   ]
  },
  {
   "cell_type": "code",
   "execution_count": null,
   "metadata": {
    "collapsed": true
   },
   "outputs": [],
   "source": [
    "clean_df.row_index.nunique()"
   ]
  },
  {
   "cell_type": "code",
   "execution_count": 17,
   "metadata": {},
   "outputs": [
    {
     "data": {
      "text/plain": [
       "2381829"
      ]
     },
     "execution_count": 17,
     "metadata": {},
     "output_type": "execute_result"
    }
   ],
   "source": [
    "clean_df.oid.nunique()"
   ]
  },
  {
   "cell_type": "code",
   "execution_count": 18,
   "metadata": {},
   "outputs": [
    {
     "data": {
      "text/plain": [
       "3805739"
      ]
     },
     "execution_count": 18,
     "metadata": {},
     "output_type": "execute_result"
    }
   ],
   "source": [
    "clean_df[clean_df.matchtype != 'no_match'].row_index.nunique()"
   ]
  },
  {
   "cell_type": "code",
   "execution_count": 19,
   "metadata": {
    "collapsed": true
   },
   "outputs": [],
   "source": [
    "# Drop all affiliations that didn't match any of our strings\n",
    "clean_df = clean_df[clean_df.matchtype != 'no_match']"
   ]
  },
  {
   "cell_type": "code",
   "execution_count": 20,
   "metadata": {},
   "outputs": [
    {
     "data": {
      "text/plain": [
       "3805739"
      ]
     },
     "execution_count": 20,
     "metadata": {},
     "output_type": "execute_result"
    }
   ],
   "source": [
    "clean_df.row_index.nunique()"
   ]
  },
  {
   "cell_type": "code",
   "execution_count": 21,
   "metadata": {
    "collapsed": true
   },
   "outputs": [],
   "source": [
    "# get rid of cases where we're matching the same field twice (or the blacklist twice,\n",
    "# we are going to get rid of those anyway\n",
    "clean_df = clean_df[~clean_df.duplicated(subset=['row_index','matched_field'])]"
   ]
  },
  {
   "cell_type": "code",
   "execution_count": 22,
   "metadata": {},
   "outputs": [
    {
     "data": {
      "text/plain": [
       "1    2804908\n",
       "2     900362\n",
       "3      95708\n",
       "4       4586\n",
       "5        162\n",
       "6         11\n",
       "9          1\n",
       "8          1\n",
       "dtype: int64"
      ]
     },
     "execution_count": 22,
     "metadata": {},
     "output_type": "execute_result"
    }
   ],
   "source": [
    "clean_df.groupby('row_index').size().value_counts()"
   ]
  },
  {
   "cell_type": "code",
   "execution_count": 23,
   "metadata": {},
   "outputs": [
    {
     "data": {
      "text/plain": [
       "[Text(0.5, 0, 'Fields Per Affiliation'),\n",
       " Text(0, 0.5, 'Number of Affiliations')]"
      ]
     },
     "execution_count": 23,
     "metadata": {},
     "output_type": "execute_result"
    },
    {
     "data": {
      "image/png": "[encoded data removed]",
      "text/plain": [
       "<Figure size 432x288 with 1 Axes>"
      ]
     },
     "metadata": {
      "needs_background": "light"
     },
     "output_type": "display_data"
    }
   ],
   "source": [
    "sns.set_context(\"notebook\", font_scale=1.5, rc={\"lines.linewidth\": 2.5})\n",
    "\n",
    "p = sns.barplot(x='N',y='count',\n",
    "            data=clean_df.groupby('row_index').size()\n",
    "            .value_counts()\n",
    "            .reset_index()\n",
    "            .rename(index=str, columns={\"index\":\"N\",0:\"count\"}))\n",
    "p.set(xlabel=\"Fields Per Affiliation\",ylabel='Number of Affiliations')\n"
   ]
  },
  {
   "cell_type": "code",
   "execution_count": 24,
   "metadata": {},
   "outputs": [
    {
     "name": "stdout",
     "output_type": "stream",
     "text": [
      "0.7370205891680959% of the remaining matches are to exactly one of our fields or the blacklist\n"
     ]
    }
   ],
   "source": [
    "v = clean_df.groupby('row_index').size().value_counts().iloc[0]/clean_df.row_index.nunique()\n",
    "print(\"{}% of the remaining matches are to exactly one of our fields or the blacklist\".format(v))"
   ]
  },
  {
   "cell_type": "code",
   "execution_count": 25,
   "metadata": {
    "collapsed": true
   },
   "outputs": [],
   "source": [
    "# Subset to those with only one match\n",
    "size_id = clean_df.groupby('row_index').size()\n",
    "rows_with_single_match = size_id[size_id == 1].index\n"
   ]
  },
  {
   "cell_type": "code",
   "execution_count": 26,
   "metadata": {
    "collapsed": true
   },
   "outputs": [],
   "source": [
    "clean_df = clean_df[clean_df.row_index.isin(rows_with_single_match)]"
   ]
  },
  {
   "cell_type": "code",
   "execution_count": 27,
   "metadata": {},
   "outputs": [
    {
     "data": {
      "text/plain": [
       "(2804908, 25)"
      ]
     },
     "execution_count": 27,
     "metadata": {},
     "output_type": "execute_result"
    }
   ],
   "source": [
    "clean_df.shape"
   ]
  },
  {
   "cell_type": "code",
   "execution_count": 28,
   "metadata": {},
   "outputs": [
    {
     "name": "stdout",
     "output_type": "stream",
     "text": [
      "Of the single matches, 0.6930077564041316% are to our fields, not the blacklist\n"
     ]
    }
   ],
   "source": [
    "v = clean_df[clean_df.matched_field != \"blacklist\"].shape[0]/clean_df.shape[0]\n",
    "print(\"Of the single matches, {}% are to our fields, not the blacklist\".format(v))"
   ]
  },
  {
   "cell_type": "code",
   "execution_count": 29,
   "metadata": {
    "collapsed": true
   },
   "outputs": [],
   "source": [
    "# Subset to non-blacklist matches\n",
    "clean_df = clean_df[(clean_df.matched_field != \"blacklist\") & (clean_df.matchtype != \"blacklist\")]"
   ]
  },
  {
   "cell_type": "code",
   "execution_count": 30,
   "metadata": {},
   "outputs": [
    {
     "data": {
      "text/plain": [
       "1768240"
      ]
     },
     "execution_count": 30,
     "metadata": {},
     "output_type": "execute_result"
    }
   ],
   "source": [
    "clean_df.shape[0]"
   ]
  },
  {
   "cell_type": "code",
   "execution_count": 31,
   "metadata": {},
   "outputs": [
    {
     "data": {
      "text/html": [
       "<div>\n",
       "<style scoped>\n",
       "    .dataframe tbody tr th:only-of-type {\n",
       "        vertical-align: middle;\n",
       "    }\n",
       "\n",
       "    .dataframe tbody tr th {\n",
       "        vertical-align: top;\n",
       "    }\n",
       "\n",
       "    .dataframe thead th {\n",
       "        text-align: right;\n",
       "    }\n",
       "</style>\n",
       "<table border=\"1\" class=\"dataframe\">\n",
       "  <thead>\n",
       "    <tr style=\"text-align: right;\">\n",
       "      <th></th>\n",
       "      <th>matchtype</th>\n",
       "      <th>0</th>\n",
       "    </tr>\n",
       "  </thead>\n",
       "  <tbody>\n",
       "    <tr>\n",
       "      <th>0</th>\n",
       "      <td>editdist</td>\n",
       "      <td>28305</td>\n",
       "    </tr>\n",
       "    <tr>\n",
       "      <th>1</th>\n",
       "      <td>exact_full</td>\n",
       "      <td>1036350</td>\n",
       "    </tr>\n",
       "    <tr>\n",
       "      <th>2</th>\n",
       "      <td>full_substring</td>\n",
       "      <td>602291</td>\n",
       "    </tr>\n",
       "    <tr>\n",
       "      <th>3</th>\n",
       "      <td>fuzzy_full_substring</td>\n",
       "      <td>19241</td>\n",
       "    </tr>\n",
       "    <tr>\n",
       "      <th>4</th>\n",
       "      <td>fuzzy_subword</td>\n",
       "      <td>30126</td>\n",
       "    </tr>\n",
       "    <tr>\n",
       "      <th>5</th>\n",
       "      <td>subword</td>\n",
       "      <td>51927</td>\n",
       "    </tr>\n",
       "  </tbody>\n",
       "</table>\n",
       "</div>"
      ],
      "text/plain": [
       "              matchtype        0\n",
       "0              editdist    28305\n",
       "1            exact_full  1036350\n",
       "2        full_substring   602291\n",
       "3  fuzzy_full_substring    19241\n",
       "4         fuzzy_subword    30126\n",
       "5               subword    51927"
      ]
     },
     "execution_count": 31,
     "metadata": {},
     "output_type": "execute_result"
    }
   ],
   "source": [
    "clean_df.groupby('matchtype').size().reset_index()"
   ]
  },
  {
   "cell_type": "code",
   "execution_count": 32,
   "metadata": {},
   "outputs": [
    {
     "data": {
      "text/plain": [
       "[Text(0.5, 0, 'Type of Match'), Text(0, 0.5, 'Number of Affiliations')]"
      ]
     },
     "execution_count": 32,
     "metadata": {},
     "output_type": "execute_result"
    },
    {
     "data": {
      "image/png": "[encoded data removed]",
      "text/plain": [
       "<Figure size 432x288 with 1 Axes>"
      ]
     },
     "metadata": {
      "needs_background": "light"
     },
     "output_type": "display_data"
    }
   ],
   "source": [
    "sns.set_context(\"notebook\", font_scale=1.5, rc={\"lines.linewidth\": 2.5})\n",
    "\n",
    "p = sns.barplot(y='N',x='count',\n",
    "            data=clean_df.groupby('matchtype').size().reset_index()\n",
    "                .rename(index=str, columns={\"matchtype\":\"N\",0:\"count\"}))\n",
    "p.set(xlabel=\"Type of Match\",ylabel='Number of Affiliations')"
   ]
  },
  {
   "cell_type": "code",
   "execution_count": 34,
   "metadata": {
    "collapsed": true
   },
   "outputs": [],
   "source": [
    "clean_df.to_csv(\"../output/cleaned_singlematchtofield_affiliations.csv\",index=False)"
   ]
  },
  {
   "cell_type": "code",
   "execution_count": 40,
   "metadata": {
    "collapsed": true
   },
   "outputs": [],
   "source": [
    "! rm ../output/cleaned_singlematchtofield_affiliations.csv.gz\n",
    "! gzip ../output/cleaned_singlematchtofield_affiliations.csv"
   ]
  },
  {
   "cell_type": "markdown",
   "metadata": {},
   "source": [
    "# Create Switches"
   ]
  },
  {
   "cell_type": "code",
   "execution_count": 36,
   "metadata": {
    "collapsed": true
   },
   "outputs": [],
   "source": [
    "df = clean_df"
   ]
  },
  {
   "cell_type": "code",
   "execution_count": 37,
   "metadata": {},
   "outputs": [
    {
     "name": "stdout",
     "output_type": "stream",
     "text": [
      "(441253, 2)\n",
      "(965604, 2)\n"
     ]
    }
   ],
   "source": [
    "potential_switch_users = df.groupby(\"oid\").size().reset_index()\n",
    "potential_switch_users.columns = ['oid','cnt']\n",
    "print(potential_switch_users[potential_switch_users.cnt > 1].shape)\n",
    "print(potential_switch_users.shape)\n",
    "potential_switch_users = potential_switch_users[potential_switch_users.cnt > 1]"
   ]
  },
  {
   "cell_type": "code",
   "execution_count": 38,
   "metadata": {
    "collapsed": true
   },
   "outputs": [],
   "source": [
    "df = df[df.oid.isin(potential_switch_users.oid)]"
   ]
  },
  {
   "cell_type": "code",
   "execution_count": 39,
   "metadata": {},
   "outputs": [
    {
     "data": {
      "text/plain": [
       "2     244622\n",
       "3     105185\n",
       "4      50520\n",
       "5      22212\n",
       "6      10544\n",
       "7       4682\n",
       "8       2112\n",
       "9        913\n",
       "10       330\n",
       "11        97\n",
       "12        36\n",
       "dtype: int64"
      ]
     },
     "execution_count": 39,
     "metadata": {},
     "output_type": "execute_result"
    }
   ],
   "source": [
    "df.groupby(\"oid\").size().value_counts()"
   ]
  },
  {
   "cell_type": "code",
   "execution_count": 41,
   "metadata": {},
   "outputs": [
    {
     "data": {
      "text/plain": [
       "441253"
      ]
     },
     "execution_count": 41,
     "metadata": {},
     "output_type": "execute_result"
    }
   ],
   "source": [
    "df.oid.nunique()"
   ]
  },
  {
   "cell_type": "code",
   "execution_count": 42,
   "metadata": {},
   "outputs": [
    {
     "data": {
      "text/plain": [
       "0.973599734381444"
      ]
     },
     "execution_count": 42,
     "metadata": {},
     "output_type": "execute_result"
    }
   ],
   "source": [
    "1-df[pd.isnull(df.date_col)].shape[0]/df.shape[0]"
   ]
  },
  {
   "cell_type": "code",
   "execution_count": 43,
   "metadata": {
    "collapsed": true
   },
   "outputs": [],
   "source": [
    "\n",
    "def get_sorted(dat):\n",
    "    # sort by year if we have that data\n",
    "    date_sorted = dat[~pd.isnull(dat.date_col)].sort_values(\"date_col\")\n",
    "    other = dat[pd.isnull(dat.date_col)]\n",
    "    # if we have dates for everything, yay! We're done!\n",
    "    if len(date_sorted) == len(dat):\n",
    "        return {\"date_plus_role\":date_sorted, \"role_only\":None}\n",
    "    \n",
    "    # maybe we have roles for everything?\n",
    "    if len(other) == len(dat) and np.sum(pd.isnull(dat.role_num)) == 0:\n",
    "        # cool. might not have switches for everything because role nums are \n",
    "        # equal, but we can at least sort on it\n",
    "        return {\"date_plus_role\": other.sort_values(\"role_num\"),\n",
    "                \"role_only\" : None}\n",
    "    \n",
    "    #otherwise we have a mix of dates and no dates\n",
    "    \n",
    "    #if a row has no date and no role, we have to just drop it\n",
    "    other = other[~pd.isnull(other.role_num)]\n",
    "    \n",
    "    # if there's nothing left, we're done\n",
    "    if len(other) == 0:\n",
    "        return {\"date_plus_role\":date_sorted,\n",
    "                \"role_only\" : None}\n",
    "    \n",
    "    # otherwise, lets try to drop the role-defined indices into the date-defined indices\n",
    "    role_rows_to_remove = []\n",
    "    for other_row_iter, orv in enumerate(other.iterrows()):\n",
    "        i, row_other = orv\n",
    "        found_position = False\n",
    "        for date_row_iter, dr in enumerate(date_sorted.iterrows()):\n",
    "            j, row_date = dr\n",
    "            if row_other['role_num'] <= row_date['role_num']:\n",
    "                found_position = True\n",
    "                break\n",
    "        if found_position:\n",
    "            role_rows_to_remove.append(i)\n",
    "            date_sorted = (date_sorted.iloc[:date_row_iter]\n",
    "                            .append(other.iloc[other_row_iter,:])\n",
    "                            .append(date_sorted.iloc[date_row_iter:]))\n",
    "            \n",
    "    # drop the role rows we've managed to put into the date-sorted data\n",
    "    other = other.drop(role_rows_to_remove)\n",
    "    \n",
    "    # at this point we've merged the dates and the roles data as best we can\n",
    "    # if there's still role data left, we couldn't connect it to the date info\n",
    "    # so we're gonna have to return both dataframes\n",
    "    return {\"date_plus_role\" : date_sorted,\n",
    "            \"role_only\" : other\n",
    "            }\n",
    "\n",
    "def field_set(f):\n",
    "    #print f,  \" set: \", set(f.split(\"||\")) - {\"NONE\",\"REGEX\",\"\"}\n",
    "    return set(f.split(\"||\")) - {\"NONE\",\"REGEX\",\"\"}\n",
    "\n",
    "\n",
    "gen_rows_to_incl = ['oid','person_first_name','person_last_name']#,'genni','ethnea','orcid']\n",
    "per_col_to_incl = ['date_col','role_category','matched_field','matchtype','emp_or_edu','row_index','org_country','org_name']\n",
    "def get_switches(ordered_deps):\n",
    "    # *** Assumes pre-sorted!\n",
    "    if ordered_deps is None:\n",
    "        return []\n",
    "    \n",
    "    # The set approach isn't really necessary anymore but its fine to keep it\n",
    "    switches = []\n",
    "    for i, j in zip(range(len(ordered_deps)),range(1,len(ordered_deps))):\n",
    "        #print set1, set2\n",
    "        #if ordered_deps.matched_field.iloc[i] != ordered_deps.matched_field.iloc[j]:\n",
    "            #print '\\t switch'\n",
    "        switches.append(ordered_deps.loc[ordered_deps.index[i],gen_rows_to_incl+per_col_to_incl].tolist() +\n",
    "                        ordered_deps.loc[ordered_deps.index[j],per_col_to_incl].tolist())\n",
    "        #else:\n",
    "            #print '\\t not switch'\n",
    "    return switches\n",
    "    \n",
    "\n",
    "def sort_and_compute_switch(dat):\n",
    "    # get sorted date+role and role-only dataframes\n",
    "    sorted_dfs = get_sorted(dat)\n",
    "    date_plus_role = sorted_dfs['date_plus_role']\n",
    "    role_only = sorted_dfs['role_only']\n",
    "    \n",
    "    # get switches (if there possibly are any)\n",
    "    return get_switches(date_plus_role) + get_switches(role_only)\n"
   ]
  },
  {
   "cell_type": "code",
   "execution_count": null,
   "metadata": {
    "collapsed": true
   },
   "outputs": [],
   "source": [
    "switch_res = df.groupby(\"oid\").apply(sort_and_compute_switch)"
   ]
  },
  {
   "cell_type": "code",
   "execution_count": null,
   "metadata": {
    "collapsed": true
   },
   "outputs": [],
   "source": [
    "switches = pd.DataFrame([x for y in switch_res for x in y])"
   ]
  },
  {
   "cell_type": "code",
   "execution_count": null,
   "metadata": {
    "collapsed": true
   },
   "outputs": [],
   "source": [
    "switches.columns = gen_rows_to_incl + [\"from_\"+x for x in per_col_to_incl] + [\"to_\"+x for x in per_col_to_incl]"
   ]
  },
  {
   "cell_type": "code",
   "execution_count": 51,
   "metadata": {
    "collapsed": true
   },
   "outputs": [],
   "source": [
    "switches.to_csv(\"../output/all_switches_w_samefield.csv\")"
   ]
  },
  {
   "cell_type": "code",
   "execution_count": 50,
   "metadata": {},
   "outputs": [
    {
     "data": {
      "text/plain": [
       "(796335, 19)"
      ]
     },
     "execution_count": 50,
     "metadata": {},
     "output_type": "execute_result"
    }
   ],
   "source": [
    "switches.shape"
   ]
  },
  {
   "cell_type": "code",
   "execution_count": 53,
   "metadata": {},
   "outputs": [],
   "source": [
    "! rm ../output/all_switches_w_samefield.csv.gz\n",
    "!gzip ../output/all_switches_w_samefield.csv"
   ]
  },
  {
   "cell_type": "code",
   "execution_count": null,
   "metadata": {
    "collapsed": true
   },
   "outputs": [],
   "source": []
  }
 ],
 "metadata": {
  "anaconda-cloud": {},
  "kernelspec": {
   "display_name": "Python (myenv)",
   "language": "python",
   "name": "myenv"
  },
  "language_info": {
   "codemirror_mode": {
    "name": "ipython",
    "version": 3
   },
   "file_extension": ".py",
   "mimetype": "text/x-python",
   "name": "python",
   "nbconvert_exporter": "python",
   "pygments_lexer": "ipython3",
   "version": "3.8.4"
  }
 },
 "nbformat": 4,
 "nbformat_minor": 1
}
